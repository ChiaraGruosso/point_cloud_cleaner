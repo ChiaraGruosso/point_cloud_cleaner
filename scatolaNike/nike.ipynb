{
 "cells": [
  {
   "cell_type": "code",
   "execution_count": 1,
   "id": "47a25697",
   "metadata": {},
   "outputs": [
    {
     "name": "stdout",
     "output_type": "stream",
     "text": [
      "Jupyter environment detected. Enabling Open3D WebVisualizer.\n",
      "[Open3D INFO] WebRTC GUI backend enabled.\n",
      "[Open3D INFO] WebRTCWindowSystem: HTTP handshake server disabled.\n"
     ]
    }
   ],
   "source": [
    "import open3d as o3d\n",
    "import numpy as np"
   ]
  },
  {
   "cell_type": "markdown",
   "id": "b43ea7fa",
   "metadata": {},
   "source": [
    "# Define functions"
   ]
  },
  {
   "cell_type": "code",
   "execution_count": 4,
   "id": "7b0ada6e",
   "metadata": {},
   "outputs": [],
   "source": [
    "def visualize_point_cloud(nome_point_cloud):\n",
    "    pcd = o3d.io.read_point_cloud(nome_point_cloud, format = 'ply')\n",
    "    print(np.asarray(pcd.points))\n",
    "    o3d.visualization.draw_geometries([pcd])\n",
    "    return pcd"
   ]
  },
  {
   "cell_type": "code",
   "execution_count": 5,
   "id": "2058be86",
   "metadata": {},
   "outputs": [],
   "source": [
    "def display_inlier_outlier(cloud, ind):\n",
    "    inlier_cloud = cloud.select_by_index(ind)\n",
    "    outlier_cloud = cloud.select_by_index(ind, invert = True)\n",
    "\n",
    "    #print(\"Showing outliers (red) and inliers (gray): \")\n",
    "    #outlier_cloud.paint_uniform_color([1, 0, 0])\n",
    "    #inlier_cloud.paint_uniform_color([0.8, 0.8, 0.8])\n",
    "    o3d.visualization.draw_geometries([inlier_cloud])\n",
    "    #print(\"inlier_cloud: \", inlier_cloud)"
   ]
  },
  {
   "cell_type": "code",
   "execution_count": 6,
   "id": "d2f7cc85",
   "metadata": {},
   "outputs": [],
   "source": [
    "def save_point_cloud(nome_file, punti_utili, colori_utili):\n",
    "    file = open(nome_file,\"w\")\n",
    "    file.write(\"ply \\n\")\n",
    "    file.write(\"format ascii 1.0 \\n\")\n",
    "    file.write(\"element vertex \" + str(punti_utili.shape[0]) + \"\\n\")\n",
    "    file.write(\"property float x \\n\")\n",
    "    file.write(\"property float y \\n\")\n",
    "    file.write(\"property float z \\n\")\n",
    "    file.write(\"property uchar red \\n\")\n",
    "    file.write(\"property uchar green \\n\")\n",
    "    file.write(\"property uchar blue \\n\")\n",
    "    file.write(\"end_header \\n\")\n",
    "    i = 0\n",
    "    j = 0\n",
    "    x = 0\n",
    "    for i in range(np.shape(punti_utili)[0]):\n",
    "        for j in range (3):\n",
    "            file.write(str(punti_utili[i, j]) + \" \")\n",
    "        for x in range (3):\n",
    "            file.write(str(colori_utili[i, x]) + \" \")\n",
    "        file.write(\"\\n\")"
   ]
  },
  {
   "cell_type": "code",
   "execution_count": 7,
   "id": "c3b1b81a",
   "metadata": {},
   "outputs": [],
   "source": [
    "#Modificare il valore di nb_neighbors per specificare quanti vicini devono essere presi in considerazione per calcolare la distanza media per un dato punto\n",
    "#Modificare il valore di std_ratio in base a quanto aggressiva si vuole la funzione, rispettivamente più è basso il valore più outlier verranno eliminati \n",
    "def statistical_outlier_removal(pcd, nb_neighbors, std_ratio):\n",
    "    print(\"Statistical outlier removal\")\n",
    "    cl, ind = pcd.remove_statistical_outlier(nb_neighbors, std_ratio)\n",
    "    display_inlier_outlier(pcd, ind)\n",
    "    return cl"
   ]
  },
  {
   "cell_type": "code",
   "execution_count": 8,
   "id": "852d32df",
   "metadata": {},
   "outputs": [],
   "source": [
    "#Modificare il valore di nb_points per selezionare la quantità minima di punti che la sfera deve contenere\n",
    "#Modificare il valore di radius per definire il raggio della sfera che verrà utilizzata per il conteggio dei vicini\n",
    "def radius_outlier_removal(pcd, nb_points, radius):\n",
    "    print(\"Radius outlier removal\")\n",
    "    cl, ind = pcd.remove_radius_outlier(nb_points, radius)\n",
    "    display_inlier_outlier(pcd, ind)\n",
    "    return cl"
   ]
  },
  {
   "cell_type": "markdown",
   "id": "721ee42f",
   "metadata": {},
   "source": [
    "# Point cloud cleaning"
   ]
  },
  {
   "cell_type": "code",
   "execution_count": 7,
   "id": "f6ebb27b",
   "metadata": {},
   "outputs": [
    {
     "name": "stdout",
     "output_type": "stream",
     "text": [
      "[[-2.94941  -1.62554   3.79955 ]\n",
      " [-1.59964  -2.15609   0.564713]\n",
      " [-1.08616  -1.23756   5.98223 ]\n",
      " ...\n",
      " [ 0.691917  0.597042  4.80825 ]\n",
      " [ 0.476538  0.124745  4.2401  ]\n",
      " [ 0.799901 -0.171617  4.30556 ]]\n"
     ]
    }
   ],
   "source": [
    "pcd = visualize_point_cloud(\"nike.ply\")"
   ]
  },
  {
   "cell_type": "code",
   "execution_count": 81,
   "id": "1814115d",
   "metadata": {},
   "outputs": [
    {
     "name": "stdout",
     "output_type": "stream",
     "text": [
      "(array([     0,      1,      2, ..., 287456, 287457, 287458], dtype=int64),)\n",
      "(1, 257805)\n"
     ]
    }
   ],
   "source": [
    "min_x = -3.0\n",
    "max_x = 8.0\n",
    "min_y = -3.0\n",
    "max_y = 3.0\n",
    "min_z = -3.0\n",
    "max_z = 8.0\n",
    "#filtra per posizione in modo tale da restringere il campo di interesse della point cloud\n",
    "filtered_pcd = np.where((np.asarray(pcd.points)[:,0] < max_x) & (np.asarray(pcd.points)[:,0] > min_x) & \n",
    "                        (np.asarray(pcd.points)[:,1] < max_y) & (np.asarray(pcd.points)[:,1] > min_y) &\n",
    "                        (np.asarray(pcd.points)[:,2] < max_z) & (np.asarray(pcd.points)[:,1] > min_z))\n",
    "print(filtered_pcd)\n",
    "print(np.shape(filtered_pcd))"
   ]
  },
  {
   "cell_type": "code",
   "execution_count": 82,
   "id": "7cd1d63b",
   "metadata": {},
   "outputs": [
    {
     "name": "stdout",
     "output_type": "stream",
     "text": [
      "(257805, 3)\n",
      "(257805, 3)\n"
     ]
    }
   ],
   "source": [
    "punti_utili = np.zeros((np.shape(filtered_pcd)[1], 3), dtype = float)\n",
    "colori_utili = np.zeros((np.shape(filtered_pcd)[1], 3), dtype = float)\n",
    "print(np.shape(punti_utili))\n",
    "print(np.shape(colori_utili))"
   ]
  },
  {
   "cell_type": "code",
   "execution_count": 83,
   "id": "0c9696c8",
   "metadata": {},
   "outputs": [
    {
     "name": "stdout",
     "output_type": "stream",
     "text": [
      "[[-2.94941  -1.62554   3.79955 ]\n",
      " [-1.59964  -2.15609   0.564713]\n",
      " [-1.08616  -1.23756   5.98223 ]\n",
      " ...\n",
      " [ 0.691917  0.597042  4.80825 ]\n",
      " [ 0.476538  0.124745  4.2401  ]\n",
      " [ 0.799901 -0.171617  4.30556 ]]\n"
     ]
    }
   ],
   "source": [
    "#filtra i punti e li salva in una nuova matrice\n",
    "i = 0\n",
    "j = 0\n",
    "x = 0\n",
    "for i in range(np.shape(np.asarray(pcd.points))[0]):\n",
    "    if ((np.asarray(pcd.points)[i,0] < max_x) & (np.asarray(pcd.points)[i,0] > min_x) & \n",
    "        (np.asarray(pcd.points)[i,1] < max_y) & (np.asarray(pcd.points)[i,1] > min_y) &\n",
    "        (np.asarray(pcd.points)[i,2] < max_z) & (np.asarray(pcd.points)[i,1] > min_z)):\n",
    "        for j in range(3):\n",
    "            punti_utili[x,j] = np.asarray(pcd.points)[i,j]\n",
    "        x = x + 1\n",
    "print(punti_utili)"
   ]
  },
  {
   "cell_type": "code",
   "execution_count": 84,
   "id": "42b27ea7",
   "metadata": {},
   "outputs": [
    {
     "name": "stdout",
     "output_type": "stream",
     "text": [
      "[[  0 255   0]\n",
      " [  0 255   0]\n",
      " [  0 255   0]\n",
      " ...\n",
      " [134 141 144]\n",
      " [255  73   2]\n",
      " [181  42   2]]\n"
     ]
    }
   ],
   "source": [
    "#crea una nuova matrice con i colori dei punti che non nel campo di interesse e li riporta in scala [0, 255]\n",
    "i = 0\n",
    "j = 0\n",
    "x = 0\n",
    "for i in range(np.shape(np.asarray(pcd.points))[0]):\n",
    "    if ((np.asarray(pcd.points)[i,0] < max_x) & (np.asarray(pcd.points)[i,0] > min_x) & \n",
    "        (np.asarray(pcd.points)[i,1] < max_y) & (np.asarray(pcd.points)[i,1] > min_y) &\n",
    "        (np.asarray(pcd.points)[i,2] < max_z) & (np.asarray(pcd.points)[i,1] > min_z)):\n",
    "        for j in range(3):\n",
    "            colori_utili[x,j] = np.asarray(pcd.colors)[i,j] * 255\n",
    "        x = x + 1\n",
    "colori_utili = colori_utili.astype(int)\n",
    "print(colori_utili)"
   ]
  },
  {
   "cell_type": "code",
   "execution_count": 85,
   "id": "7cbdc378",
   "metadata": {},
   "outputs": [],
   "source": [
    "save_point_cloud(\"pointCloud_PrimaModifica_nike.ply\", punti_utili, colori_utili)"
   ]
  },
  {
   "cell_type": "code",
   "execution_count": 8,
   "id": "07ce8050",
   "metadata": {},
   "outputs": [
    {
     "name": "stdout",
     "output_type": "stream",
     "text": [
      "[[-2.94941  -1.62554   3.79955 ]\n",
      " [-1.59964  -2.15609   0.564713]\n",
      " [-1.08616  -1.23756   5.98223 ]\n",
      " ...\n",
      " [ 0.691917  0.597042  4.80825 ]\n",
      " [ 0.476538  0.124745  4.2401  ]\n",
      " [ 0.799901 -0.171617  4.30556 ]]\n"
     ]
    }
   ],
   "source": [
    "pcd_first_modify = visualize_point_cloud(\"pointCloud_PrimaModifica_nike.ply\")"
   ]
  },
  {
   "cell_type": "code",
   "execution_count": 8,
   "id": "12ac876e",
   "metadata": {},
   "outputs": [
    {
     "name": "stdout",
     "output_type": "stream",
     "text": [
      "23.1878\n",
      "-27.6227\n"
     ]
    }
   ],
   "source": [
    "# property float x\n",
    "print(max(np.asarray(pcd.points)[:,0]))\n",
    "print(min(np.asarray(pcd.points)[:,0]))"
   ]
  },
  {
   "cell_type": "code",
   "execution_count": 9,
   "id": "7706de84",
   "metadata": {},
   "outputs": [
    {
     "name": "stdout",
     "output_type": "stream",
     "text": [
      "12.6237\n",
      "-11.5138\n"
     ]
    }
   ],
   "source": [
    "# property float y\n",
    "print(max(np.asarray(pcd.points)[:,1]))\n",
    "print(min(np.asarray(pcd.points)[:,1]))"
   ]
  },
  {
   "cell_type": "code",
   "execution_count": 10,
   "id": "30d214f3",
   "metadata": {},
   "outputs": [
    {
     "name": "stdout",
     "output_type": "stream",
     "text": [
      "31.3765\n",
      "-24.3987\n"
     ]
    }
   ],
   "source": [
    "# property float z\n",
    "print(max(np.asarray(pcd.points)[:,2]))\n",
    "print(min(np.asarray(pcd.points)[:,2]))"
   ]
  },
  {
   "cell_type": "code",
   "execution_count": 87,
   "id": "48412b05",
   "metadata": {},
   "outputs": [
    {
     "name": "stdout",
     "output_type": "stream",
     "text": [
      "(array([  2632,   2633,   2634, ..., 257802, 257803, 257804], dtype=int64),)\n",
      "(1, 254803)\n"
     ]
    }
   ],
   "source": [
    "green_value = 1\n",
    "#elimina le telecamere che sono completamente verdi\n",
    "filtered_pcd_green_less = np.where((np.asarray(pcd_first_modify.colors)[:,1] != green_value))\n",
    "print(filtered_pcd_green_less)\n",
    "print(np.shape(filtered_pcd_green_less))"
   ]
  },
  {
   "cell_type": "code",
   "execution_count": 88,
   "id": "12d84c0f",
   "metadata": {},
   "outputs": [
    {
     "name": "stdout",
     "output_type": "stream",
     "text": [
      "(254803, 3)\n",
      "(254803, 3)\n"
     ]
    }
   ],
   "source": [
    "punti_utili_green_less = np.zeros((np.shape(filtered_pcd_green_less)[1], 3), dtype = float)\n",
    "colori_utili_green_less = np.zeros((np.shape(filtered_pcd_green_less)[1], 3), dtype = float)\n",
    "print(np.shape(punti_utili_green_less))\n",
    "print(np.shape(colori_utili_green_less))"
   ]
  },
  {
   "cell_type": "code",
   "execution_count": 89,
   "id": "33847678",
   "metadata": {},
   "outputs": [
    {
     "name": "stdout",
     "output_type": "stream",
     "text": [
      "[[ 1.09312  -0.451514  3.88326 ]\n",
      " [ 0.997504  0.308511  3.75567 ]\n",
      " [ 1.12951  -0.148667  3.81329 ]\n",
      " ...\n",
      " [ 0.691917  0.597042  4.80825 ]\n",
      " [ 0.476538  0.124745  4.2401  ]\n",
      " [ 0.799901 -0.171617  4.30556 ]]\n"
     ]
    }
   ],
   "source": [
    "#filtra i punti e li salva in una nuova matrice\n",
    "i = 0\n",
    "j = 0\n",
    "x = 0\n",
    "for i in range(np.shape(np.asarray(pcd_first_modify.points))[0]):\n",
    "    if (np.asarray(pcd_first_modify.colors)[i,1] != green_value):\n",
    "        for j in range(3):\n",
    "            punti_utili_green_less[x,j] = np.asarray(pcd_first_modify.points)[i,j]\n",
    "        x = x + 1\n",
    "print(punti_utili_green_less)"
   ]
  },
  {
   "cell_type": "code",
   "execution_count": 90,
   "id": "a47681a1",
   "metadata": {},
   "outputs": [
    {
     "name": "stdout",
     "output_type": "stream",
     "text": [
      "[[216 160 146]\n",
      " [ 68  11   0]\n",
      " [  7   0   0]\n",
      " ...\n",
      " [134 141 144]\n",
      " [255  73   2]\n",
      " [181  42   2]]\n"
     ]
    }
   ],
   "source": [
    "#crea una nuova matrice con i colori dei punti che non sono telecamere e li riporta in scala [0, 255]\n",
    "i = 0\n",
    "j = 0\n",
    "x = 0\n",
    "for i in range(np.shape(np.asarray(pcd_first_modify.points))[0]):\n",
    "    if (np.asarray(pcd_first_modify.colors)[i,1] != green_value):\n",
    "        for j in range(3):\n",
    "            colori_utili_green_less[x,j] = np.asarray(pcd_first_modify.colors)[i,j] * 255\n",
    "        x = x + 1\n",
    "colori_utili_green_less = colori_utili_green_less.astype(int)\n",
    "print(colori_utili_green_less)"
   ]
  },
  {
   "cell_type": "code",
   "execution_count": 91,
   "id": "c726f57b",
   "metadata": {},
   "outputs": [],
   "source": [
    "save_point_cloud(\"pointCloud_SecondaModifica_nike.ply\", punti_utili_green_less, colori_utili_green_less)"
   ]
  },
  {
   "cell_type": "code",
   "execution_count": 9,
   "id": "a1361ec1",
   "metadata": {},
   "outputs": [
    {
     "name": "stdout",
     "output_type": "stream",
     "text": [
      "[[ 1.09312  -0.451514  3.88326 ]\n",
      " [ 0.997504  0.308511  3.75567 ]\n",
      " [ 1.12951  -0.148667  3.81329 ]\n",
      " ...\n",
      " [ 0.691917  0.597042  4.80825 ]\n",
      " [ 0.476538  0.124745  4.2401  ]\n",
      " [ 0.799901 -0.171617  4.30556 ]]\n",
      "[Open3D WARNING] [ViewControl] SetViewPoint() failed because window height and width are not set.\n"
     ]
    }
   ],
   "source": [
    "pcd_second_modify = visualize_point_cloud(\"pointCloud_SecondaModifica_nike.ply\")"
   ]
  },
  {
   "cell_type": "code",
   "execution_count": 8,
   "id": "abf7d5e9",
   "metadata": {},
   "outputs": [
    {
     "name": "stdout",
     "output_type": "stream",
     "text": [
      "Statistical outlier removal\n",
      "Showing outliers (red) and inliers (gray): \n"
     ]
    }
   ],
   "source": [
    "cl_statical = statistical_outlier_removal(pcd_second_modify, 20, 2.0)"
   ]
  },
  {
   "cell_type": "code",
   "execution_count": 9,
   "id": "8fb01338",
   "metadata": {},
   "outputs": [
    {
     "data": {
      "text/plain": [
       "(250407, 3)"
      ]
     },
     "execution_count": 9,
     "metadata": {},
     "output_type": "execute_result"
    }
   ],
   "source": [
    "np.shape(np.asarray(cl_statical.points))"
   ]
  },
  {
   "cell_type": "code",
   "execution_count": 10,
   "id": "202f2e96",
   "metadata": {},
   "outputs": [
    {
     "name": "stdout",
     "output_type": "stream",
     "text": [
      "Statistical outlier removal\n",
      "Showing outliers (red) and inliers (gray): \n"
     ]
    }
   ],
   "source": [
    "cl_statical2 = statistical_outlier_removal(cl_statical, 20, 2.0)"
   ]
  },
  {
   "cell_type": "code",
   "execution_count": 11,
   "id": "b87a09b8",
   "metadata": {},
   "outputs": [
    {
     "data": {
      "text/plain": [
       "(234675, 3)"
      ]
     },
     "execution_count": 11,
     "metadata": {},
     "output_type": "execute_result"
    }
   ],
   "source": [
    "np.shape(np.asarray(cl_statical2.points))"
   ]
  },
  {
   "cell_type": "code",
   "execution_count": 14,
   "id": "b943eb82",
   "metadata": {},
   "outputs": [
    {
     "name": "stdout",
     "output_type": "stream",
     "text": [
      "[[ 1.09312  -0.451514  3.88326 ]\n",
      " [ 0.997504  0.308511  3.75567 ]\n",
      " [ 1.12951  -0.148667  3.81329 ]\n",
      " ...\n",
      " [ 0.010718  0.229622  4.52808 ]\n",
      " [ 0.476538  0.124745  4.2401  ]\n",
      " [ 0.799901 -0.171617  4.30556 ]]\n",
      " \n",
      "[[216 160 146]\n",
      " [ 68  11   0]\n",
      " [  7   0   0]\n",
      " ...\n",
      " [234  50   0]\n",
      " [255  73   2]\n",
      " [181  42   2]]\n"
     ]
    }
   ],
   "source": [
    "print(np.asarray(cl_statical2.points))\n",
    "print(\" \")\n",
    "cl_statical2_colori = np.asarray(cl_statical2.colors) * 255\n",
    "cl_statical2_colori = cl_statical2_colori.astype(int)\n",
    "print(cl_statical2_colori)"
   ]
  },
  {
   "cell_type": "code",
   "execution_count": 15,
   "id": "af76bf38",
   "metadata": {},
   "outputs": [],
   "source": [
    "save_point_cloud(\"pointCloud_TerzaModifica_nike.ply\", np.asarray(cl_statical2.points), cl_statical2_colori)"
   ]
  },
  {
   "cell_type": "code",
   "execution_count": 10,
   "id": "9f8f195c",
   "metadata": {},
   "outputs": [
    {
     "name": "stdout",
     "output_type": "stream",
     "text": [
      "[[ 1.09312  -0.451514  3.88326 ]\n",
      " [ 0.997504  0.308511  3.75567 ]\n",
      " [ 1.12951  -0.148667  3.81329 ]\n",
      " ...\n",
      " [ 0.010718  0.229622  4.52808 ]\n",
      " [ 0.476538  0.124745  4.2401  ]\n",
      " [ 0.799901 -0.171617  4.30556 ]]\n"
     ]
    }
   ],
   "source": [
    "pcd_third_modify = visualize_point_cloud(\"pointCloud_TerzaModifica_nike.ply\")"
   ]
  },
  {
   "cell_type": "code",
   "execution_count": 18,
   "id": "75b00e9a",
   "metadata": {},
   "outputs": [
    {
     "name": "stdout",
     "output_type": "stream",
     "text": [
      "(array([     0,      1,      2, ..., 234672, 234673, 234674], dtype=int64),)\n",
      "(1, 230899)\n"
     ]
    }
   ],
   "source": [
    "range_value = 0.019\n",
    "#filtra i colori grigi\n",
    "filtered_pcd_gray_less = np.where((np.asarray(pcd_third_modify.colors)[:,0] > ((np.asarray(pcd_third_modify.colors)[:,1]) + range_value)) | \n",
    "                                  (np.asarray(pcd_third_modify.colors)[:,0] < ((np.asarray(pcd_third_modify.colors)[:,1]) - range_value)) & \n",
    "                                  (np.asarray(pcd_third_modify.colors)[:,0] > ((np.asarray(pcd_third_modify.colors)[:,2]) + range_value)) | \n",
    "                                  (np.asarray(pcd_third_modify.colors)[:,0] < ((np.asarray(pcd_third_modify.colors)[:,2]) - range_value)))\n",
    "print(filtered_pcd_gray_less)\n",
    "print(np.shape(filtered_pcd_gray_less))"
   ]
  },
  {
   "cell_type": "code",
   "execution_count": 19,
   "id": "4d60ec95",
   "metadata": {},
   "outputs": [
    {
     "name": "stdout",
     "output_type": "stream",
     "text": [
      "(230899, 3)\n",
      "(230899, 3)\n"
     ]
    }
   ],
   "source": [
    "punti_utili_gray_less = np.zeros((np.shape(filtered_pcd_gray_less)[1], 3), dtype = float)\n",
    "colori_utili_gray_less = np.zeros((np.shape(filtered_pcd_gray_less)[1], 3), dtype = float)\n",
    "print(np.shape(punti_utili_gray_less))\n",
    "print(np.shape(colori_utili_gray_less))"
   ]
  },
  {
   "cell_type": "code",
   "execution_count": 20,
   "id": "38544615",
   "metadata": {},
   "outputs": [
    {
     "name": "stdout",
     "output_type": "stream",
     "text": [
      "[[ 1.09312  -0.451514  3.88326 ]\n",
      " [ 0.997504  0.308511  3.75567 ]\n",
      " [ 1.12951  -0.148667  3.81329 ]\n",
      " ...\n",
      " [ 0.010718  0.229622  4.52808 ]\n",
      " [ 0.476538  0.124745  4.2401  ]\n",
      " [ 0.799901 -0.171617  4.30556 ]]\n"
     ]
    }
   ],
   "source": [
    "#filtra i punti e li salva in una nuova matrice\n",
    "i = 0\n",
    "j = 0\n",
    "x = 0\n",
    "for i in range(np.shape(np.asarray(pcd_third_modify.points))[0]):\n",
    "    if ((np.asarray(pcd_third_modify.colors)[i,0] > ((np.asarray(pcd_third_modify.colors)[i,1]) + range_value)) | \n",
    "        (np.asarray(pcd_third_modify.colors)[i,0] < ((np.asarray(pcd_third_modify.colors)[i,1]) - range_value)) & \n",
    "        (np.asarray(pcd_third_modify.colors)[i,0] > ((np.asarray(pcd_third_modify.colors)[i,2]) + range_value)) | \n",
    "        (np.asarray(pcd_third_modify.colors)[i,0] < ((np.asarray(pcd_third_modify.colors)[i,2]) - range_value))):\n",
    "        for j in range(3):\n",
    "            punti_utili_gray_less[x,j] = np.asarray(pcd_third_modify.points)[i,j]\n",
    "        x = x + 1\n",
    "print(punti_utili_gray_less)"
   ]
  },
  {
   "cell_type": "code",
   "execution_count": 21,
   "id": "ff3e9a33",
   "metadata": {},
   "outputs": [
    {
     "name": "stdout",
     "output_type": "stream",
     "text": [
      "[[216 160 146]\n",
      " [ 68  11   0]\n",
      " [  7   0   0]\n",
      " ...\n",
      " [234  50   0]\n",
      " [255  73   2]\n",
      " [181  42   2]]\n"
     ]
    }
   ],
   "source": [
    "#crea una nuova matrice con i colori dei punti che non superano la soglia e li riporta in scala [0, 255]\n",
    "i = 0\n",
    "j = 0\n",
    "x = 0\n",
    "for i in range(np.shape(np.asarray(pcd_third_modify.points))[0]):\n",
    "    if ((np.asarray(pcd_third_modify.colors)[i,0] > ((np.asarray(pcd_third_modify.colors)[i,1]) + range_value)) | \n",
    "        (np.asarray(pcd_third_modify.colors)[i,0] < ((np.asarray(pcd_third_modify.colors)[i,1]) - range_value)) & \n",
    "        (np.asarray(pcd_third_modify.colors)[i,0] > ((np.asarray(pcd_third_modify.colors)[i,2]) + range_value)) | \n",
    "        (np.asarray(pcd_third_modify.colors)[i,0] < ((np.asarray(pcd_third_modify.colors)[i,2]) - range_value))):\n",
    "        for j in range(3):\n",
    "            colori_utili_gray_less[x,j] = np.asarray(pcd_third_modify.colors)[i,j] * 255\n",
    "        x = x + 1\n",
    "colori_utili_gray_less = colori_utili_gray_less.astype(int)\n",
    "print(colori_utili_gray_less)"
   ]
  },
  {
   "cell_type": "code",
   "execution_count": 22,
   "id": "b5d49878",
   "metadata": {},
   "outputs": [],
   "source": [
    "save_point_cloud(\"pointCloud_GrayLess_nike.ply\", punti_utili_gray_less, colori_utili_gray_less)"
   ]
  },
  {
   "cell_type": "code",
   "execution_count": 11,
   "id": "fc34692b",
   "metadata": {},
   "outputs": [
    {
     "name": "stdout",
     "output_type": "stream",
     "text": [
      "[[ 1.09312  -0.451514  3.88326 ]\n",
      " [ 0.997504  0.308511  3.75567 ]\n",
      " [ 1.12951  -0.148667  3.81329 ]\n",
      " ...\n",
      " [ 0.010718  0.229622  4.52808 ]\n",
      " [ 0.476538  0.124745  4.2401  ]\n",
      " [ 0.799901 -0.171617  4.30556 ]]\n"
     ]
    }
   ],
   "source": [
    "pcd_gray_less = visualize_point_cloud(\"pointCloud_GrayLess_nike.ply\")"
   ]
  },
  {
   "cell_type": "code",
   "execution_count": 16,
   "id": "851e0e1a",
   "metadata": {},
   "outputs": [
    {
     "name": "stdout",
     "output_type": "stream",
     "text": [
      "(array([     0,      1,      4, ..., 230896, 230897, 230898], dtype=int64),)\n",
      "(1, 189954)\n"
     ]
    }
   ],
   "source": [
    "blue_value = 0.66\n",
    "#filtra i colori sul blu\n",
    "filtered_pcd_blue_less = np.where(((np.asarray(pcd_gray_less.colors)[:,0]) > (np.asarray(pcd_gray_less.colors)[:,2])) &\n",
    "                                  ((np.asarray(pcd_gray_less.colors)[:,1]) > (np.asarray(pcd_gray_less.colors)[:,2])) &\n",
    "                                  ((np.asarray(pcd_gray_less.colors)[:,2]) < blue_value))\n",
    "print(filtered_pcd_blue_less)\n",
    "print(np.shape(filtered_pcd_blue_less))"
   ]
  },
  {
   "cell_type": "code",
   "execution_count": 17,
   "id": "706a5f55",
   "metadata": {},
   "outputs": [
    {
     "name": "stdout",
     "output_type": "stream",
     "text": [
      "(189954, 3)\n",
      "(189954, 3)\n"
     ]
    }
   ],
   "source": [
    "punti_utili_blue_less = np.zeros((np.shape(filtered_pcd_blue_less)[1], 3), dtype = float)\n",
    "colori_utili_blue_less = np.zeros((np.shape(filtered_pcd_blue_less)[1], 3), dtype = float)\n",
    "print(np.shape(punti_utili_blue_less))\n",
    "print(np.shape(colori_utili_blue_less))"
   ]
  },
  {
   "cell_type": "code",
   "execution_count": 18,
   "id": "6a8f11fc",
   "metadata": {},
   "outputs": [
    {
     "name": "stdout",
     "output_type": "stream",
     "text": [
      "[[ 1.09312  -0.451514  3.88326 ]\n",
      " [ 0.997504  0.308511  3.75567 ]\n",
      " [-0.977566 -0.800794  2.7224  ]\n",
      " ...\n",
      " [ 0.010718  0.229622  4.52808 ]\n",
      " [ 0.476538  0.124745  4.2401  ]\n",
      " [ 0.799901 -0.171617  4.30556 ]]\n"
     ]
    }
   ],
   "source": [
    "#filtra i punti e li salva in una nuova matrice\n",
    "i = 0\n",
    "j = 0\n",
    "x = 0\n",
    "for i in range(np.shape(np.asarray(pcd_gray_less.points))[0]):\n",
    "    if (((np.asarray(pcd_gray_less.colors)[i,0]) > (np.asarray(pcd_gray_less.colors)[i,2])) &\n",
    "        ((np.asarray(pcd_gray_less.colors)[i,1]) > (np.asarray(pcd_gray_less.colors)[i,2])) &\n",
    "        ((np.asarray(pcd_gray_less.colors)[i,2]) < blue_value)):\n",
    "        for j in range(3):\n",
    "            punti_utili_blue_less[x,j] = np.asarray(pcd_gray_less.points)[i,j]\n",
    "        x = x + 1\n",
    "print(punti_utili_blue_less)"
   ]
  },
  {
   "cell_type": "code",
   "execution_count": 19,
   "id": "43ed3f2f",
   "metadata": {},
   "outputs": [
    {
     "name": "stdout",
     "output_type": "stream",
     "text": [
      "[[216 160 146]\n",
      " [ 68  11   0]\n",
      " [230 169 165]\n",
      " ...\n",
      " [234  50   0]\n",
      " [255  73   2]\n",
      " [181  42   2]]\n"
     ]
    }
   ],
   "source": [
    "#crea una nuova matrice con i colori dei punti che non superano la soglia e li riporta in scala [0, 255]\n",
    "i = 0\n",
    "j = 0\n",
    "x = 0\n",
    "for i in range(np.shape(np.asarray(pcd_gray_less.points))[0]):\n",
    "    if (((np.asarray(pcd_gray_less.colors)[i,0]) > (np.asarray(pcd_gray_less.colors)[i,2])) &\n",
    "        ((np.asarray(pcd_gray_less.colors)[i,1]) > (np.asarray(pcd_gray_less.colors)[i,2])) &\n",
    "        ((np.asarray(pcd_gray_less.colors)[i,2]) < blue_value)):\n",
    "        for j in range(3):\n",
    "            colori_utili_blue_less[x,j] = np.asarray(pcd_gray_less.colors)[i,j] * 255\n",
    "        x = x + 1\n",
    "colori_utili_blue_less = colori_utili_blue_less.astype(int)\n",
    "print(colori_utili_blue_less)"
   ]
  },
  {
   "cell_type": "code",
   "execution_count": 22,
   "id": "14f08493",
   "metadata": {},
   "outputs": [],
   "source": [
    "save_point_cloud(\"pointCloud_BlueLess_nike.ply\", punti_utili_blue_less, colori_utili_blue_less)"
   ]
  },
  {
   "cell_type": "code",
   "execution_count": 10,
   "id": "67932239",
   "metadata": {},
   "outputs": [
    {
     "name": "stdout",
     "output_type": "stream",
     "text": [
      "[[ 1.09312  -0.451514  3.88326 ]\n",
      " [ 0.997504  0.308511  3.75567 ]\n",
      " [-0.977566 -0.800794  2.7224  ]\n",
      " ...\n",
      " [ 0.010718  0.229622  4.52808 ]\n",
      " [ 0.476538  0.124745  4.2401  ]\n",
      " [ 0.799901 -0.171617  4.30556 ]]\n",
      "[Open3D WARNING] GLFW Error: WGL: Failed to make context current: L'operazione di trasformazione richiesta non è supportata. \n"
     ]
    }
   ],
   "source": [
    "pcd_blue_less = visualize_point_cloud(\"pointCloud_BlueLess_nike.ply\")"
   ]
  },
  {
   "cell_type": "code",
   "execution_count": 11,
   "id": "a1ba5b0c",
   "metadata": {},
   "outputs": [
    {
     "name": "stdout",
     "output_type": "stream",
     "text": [
      "Statistical outlier removal\n",
      "[Open3D WARNING] GLFW Error: WGL: Failed to make context current: L'operazione di trasformazione richiesta non è supportata. \n",
      "[Open3D WARNING] GLFW Error: WGL: Failed to make context current: Handle non valido. \n"
     ]
    }
   ],
   "source": [
    "cl_statical3 = statistical_outlier_removal(pcd_blue_less, 80, 2.0)"
   ]
  },
  {
   "cell_type": "code",
   "execution_count": 27,
   "id": "49d37d7d",
   "metadata": {},
   "outputs": [
    {
     "data": {
      "text/plain": [
       "(181632, 3)"
      ]
     },
     "execution_count": 27,
     "metadata": {},
     "output_type": "execute_result"
    }
   ],
   "source": [
    "np.shape(np.asarray(cl_statical3.points))"
   ]
  },
  {
   "cell_type": "code",
   "execution_count": 12,
   "id": "0840bac5",
   "metadata": {},
   "outputs": [
    {
     "name": "stdout",
     "output_type": "stream",
     "text": [
      "Statistical outlier removal\n",
      "[Open3D WARNING] GLFW Error: WGL: Failed to make context current: L'operazione di trasformazione richiesta non è supportata. \n"
     ]
    }
   ],
   "source": [
    "cl_statical4 = statistical_outlier_removal(cl_statical3, 80, 2.0)"
   ]
  },
  {
   "cell_type": "code",
   "execution_count": 140,
   "id": "818876bd",
   "metadata": {},
   "outputs": [
    {
     "name": "stdout",
     "output_type": "stream",
     "text": [
      "Plane equation: 0.02x + 0.99y + -0.13z + 0.80 = 0\n"
     ]
    }
   ],
   "source": [
    "#la funzione segment_plane permette di effettuare una plane segmentation\n",
    "#tre parametri:\n",
    "#distance_threshold definisce la distanza massima che un punto può avere da un piano stimato per essere considerato un inlier\n",
    "#ransac_n definisce il numero di punti campionati casualmente per stimare un piano \n",
    "#num_iterations definisce la frequenza con cui un piano casuale viene campionato e verificato\n",
    "#restituisce il piano come [a, b, c, d] tale che per ogni punto (x,y,z) sul piano abbiamo ax + by + cz + d = 0\n",
    "#restituisce anche un elenco di indici dei punti inlier\n",
    "plane_model, inliers = cl_statical4.segment_plane(distance_threshold = 0.5,\n",
    "                                         ransac_n = 3,\n",
    "                                         num_iterations = 1000)\n",
    "[a, b, c, d] = plane_model\n",
    "print(f\"Plane equation: {a:.2f}x + {b:.2f}y + {c:.2f}z + {d:.2f} = 0\")\n",
    "\n",
    "inlier_cloud = cl_statical4.select_by_index(inliers)\n",
    "#inlier_cloud.paint_uniform_color([0, 0, 1.0])\n",
    "outlier_cloud = cl_statical4.select_by_index(inliers, invert=True)\n",
    "o3d.visualization.draw_geometries([inlier_cloud])"
   ]
  },
  {
   "cell_type": "code",
   "execution_count": 141,
   "id": "a9948c90",
   "metadata": {
    "scrolled": true
   },
   "outputs": [
    {
     "name": "stdout",
     "output_type": "stream",
     "text": [
      "[[ 1.09312  -0.451514  3.88326 ]\n",
      " [ 0.997504  0.308511  3.75567 ]\n",
      " [-0.977566 -0.800794  2.7224  ]\n",
      " ...\n",
      " [ 0.010718  0.229622  4.52808 ]\n",
      " [ 0.476538  0.124745  4.2401  ]\n",
      " [ 0.799901 -0.171617  4.30556 ]]\n",
      " \n",
      "[[216 160 146]\n",
      " [ 68  11   0]\n",
      " [230 169 165]\n",
      " ...\n",
      " [234  50   0]\n",
      " [255  73   2]\n",
      " [181  42   2]]\n"
     ]
    }
   ],
   "source": [
    "print(np.asarray(inlier_cloud.points))\n",
    "print(\" \")\n",
    "inlier_cloud_colori = np.asarray(inlier_cloud.colors) * 255\n",
    "inlier_cloud_colori = inlier_cloud_colori.astype(int)\n",
    "print(inlier_cloud_colori)"
   ]
  },
  {
   "cell_type": "code",
   "execution_count": 142,
   "id": "69b823a5",
   "metadata": {},
   "outputs": [],
   "source": [
    "save_point_cloud(\"pointCloud_Segmentation_nike6.ply\", np.asarray(inlier_cloud.points), inlier_cloud_colori)"
   ]
  },
  {
   "cell_type": "code",
   "execution_count": 13,
   "id": "f40589e1",
   "metadata": {},
   "outputs": [
    {
     "name": "stdout",
     "output_type": "stream",
     "text": [
      "[[ 1.09312  -0.451514  3.88326 ]\n",
      " [ 0.997504  0.308511  3.75567 ]\n",
      " [-0.977566 -0.800794  2.7224  ]\n",
      " ...\n",
      " [ 0.010718  0.229622  4.52808 ]\n",
      " [ 0.476538  0.124745  4.2401  ]\n",
      " [ 0.799901 -0.171617  4.30556 ]]\n",
      "The history saving thread hit an unexpected error (OperationalError('database is locked')).History will not be written to the database.\n"
     ]
    }
   ],
   "source": [
    "pcd_plane_segmentation = visualize_point_cloud(\"pointCloud_Segmentation_nike5.ply\")"
   ]
  },
  {
   "cell_type": "code",
   "execution_count": 164,
   "id": "ae9d7df8",
   "metadata": {},
   "outputs": [
    {
     "name": "stdout",
     "output_type": "stream",
     "text": [
      "alpha=0.800\n"
     ]
    }
   ],
   "source": [
    "#crea una mesh dalla point cloud\n",
    "alpha = 0.8\n",
    "\n",
    "print(f\"alpha = {alpha:.3f}\")\n",
    "mesh = o3d.geometry.TriangleMesh.create_from_point_cloud_alpha_shape(pcd_plane_segmentation, alpha)\n",
    "mesh.compute_vertex_normals()\n",
    "o3d.visualization.draw_geometries([mesh], mesh_show_back_face = True)"
   ]
  },
  {
   "cell_type": "code",
   "execution_count": 165,
   "id": "c11ffb67",
   "metadata": {},
   "outputs": [],
   "source": [
    "#ricostruisce la point cloud dalla mesh\n",
    "pcd_ricostruita = mesh.sample_points_uniformly(number_of_points = 200000)\n",
    "o3d.visualization.draw_geometries([pcd_ricostruita])"
   ]
  },
  {
   "cell_type": "code",
   "execution_count": 166,
   "id": "770692c8",
   "metadata": {},
   "outputs": [
    {
     "name": "stdout",
     "output_type": "stream",
     "text": [
      "[[-0.09904709 -0.89138746  1.88103991]\n",
      " [-0.0908544  -0.88936895  1.87791749]\n",
      " [-0.10891099 -0.88796152  1.87819221]\n",
      " ...\n",
      " [-0.75243951 -0.74125284  3.40579063]\n",
      " [-0.79635714 -0.72782779  3.46419336]\n",
      " [-0.74380828 -0.74352598  3.39620058]]\n",
      " \n",
      "[[246 125  83]\n",
      " [246 126  87]\n",
      " [248 117  69]\n",
      " ...\n",
      " [191 123  82]\n",
      " [229 120  57]\n",
      " [184 123  87]]\n"
     ]
    }
   ],
   "source": [
    "print(np.asarray(pcd_ricostruita.points))\n",
    "print(\" \")\n",
    "pcd_ricostruita_colori = np.asarray(pcd_ricostruita.colors) * 255\n",
    "pcd_ricostruita_colori = pcd_ricostruita_colori.astype(int)\n",
    "print(pcd_ricostruita_colori)"
   ]
  },
  {
   "cell_type": "code",
   "execution_count": 167,
   "id": "f86e32fe",
   "metadata": {},
   "outputs": [],
   "source": [
    "save_point_cloud(\"pointCloud_Ricostruita_nike.ply\", np.asarray(pcd_ricostruita.points), pcd_ricostruita_colori)"
   ]
  },
  {
   "cell_type": "code",
   "execution_count": 9,
   "id": "176995c9",
   "metadata": {},
   "outputs": [
    {
     "name": "stdout",
     "output_type": "stream",
     "text": [
      "[[-0.09904709 -0.89138746  1.88103991]\n",
      " [-0.0908544  -0.88936895  1.87791749]\n",
      " [-0.10891099 -0.88796152  1.87819221]\n",
      " ...\n",
      " [-0.75243951 -0.74125284  3.40579063]\n",
      " [-0.79635714 -0.72782779  3.46419336]\n",
      " [-0.74380828 -0.74352598  3.39620058]]\n",
      "[Open3D WARNING] GLFW Error: WGL: Failed to make context current: Handle non valido. \n",
      "[Open3D WARNING] GLFW Error: WGL: Failed to make context current: L'operazione di trasformazione richiesta non è supportata. \n"
     ]
    }
   ],
   "source": [
    "pcd_finale = visualize_point_cloud(\"pointCloud_Ricostruita_nike.ply\")"
   ]
  },
  {
   "cell_type": "markdown",
   "id": "2a512bff",
   "metadata": {},
   "source": [
    "# Error estimate calculation"
   ]
  },
  {
   "cell_type": "code",
   "execution_count": null,
   "id": "5a4a7290",
   "metadata": {},
   "outputs": [],
   "source": [
    "#salva la mesh\n",
    "o3d.io.write_triangle_mesh(\"mesh_nike.ply\", meshNike)"
   ]
  },
  {
   "cell_type": "code",
   "execution_count": 2,
   "id": "e2eca676",
   "metadata": {},
   "outputs": [],
   "source": [
    "#carica la mesh\n",
    "mesh_ruotata_nike = o3d.io.read_triangle_mesh(\"NikeRuotata.ply\")\n",
    "o3d.visualization.draw_geometries([mesh_ruotata_nike], mesh_show_back_face = True)"
   ]
  },
  {
   "cell_type": "code",
   "execution_count": 3,
   "id": "eb7931fb",
   "metadata": {},
   "outputs": [],
   "source": [
    "#ricostruisce la point cloud dalla mesh\n",
    "pcd_ricostruita_ruotata_nike = mesh_ruotata_nike.sample_points_uniformly(number_of_points = 200000)\n",
    "o3d.visualization.draw_geometries([pcd_ricostruita_ruotata_nike])"
   ]
  },
  {
   "cell_type": "code",
   "execution_count": 4,
   "id": "6a6b1433",
   "metadata": {},
   "outputs": [],
   "source": [
    "#carica la mesh\n",
    "mesh_scatola_nike = o3d.io.read_triangle_mesh(\"ScatolaNike.ply\")\n",
    "o3d.visualization.draw_geometries([mesh_scatola_nike], mesh_show_back_face=True)"
   ]
  },
  {
   "cell_type": "code",
   "execution_count": 5,
   "id": "988f3c2b",
   "metadata": {},
   "outputs": [],
   "source": [
    "#ricostruisce la point cloud dalla mesh\n",
    "pcd_scatola_nike = mesh_scatola_nike.sample_points_uniformly(number_of_points = 200000)\n",
    "o3d.visualization.draw_geometries([pcd_scatola_nike])"
   ]
  },
  {
   "cell_type": "code",
   "execution_count": 6,
   "id": "84ab6732",
   "metadata": {},
   "outputs": [
    {
     "name": "stdout",
     "output_type": "stream",
     "text": [
      "[0.27853899 0.25198617 0.24331912 ... 0.01502436 0.01875736 0.01289454]\n"
     ]
    }
   ],
   "source": [
    "#calcola la distanza da una point cloud di origine a una point cloud di destinazione \n",
    "#calcola per ogni punto nella point cloud di origine la distanza dal punto più vicino nella point cloud di destinazione\n",
    "dists_nike = pcd_ricostruita_ruotata_nike.compute_point_cloud_distance(pcd_scatola_nike)\n",
    "dists_nike = np.asarray(dists_nike)\n",
    "print(dists_nike)"
   ]
  },
  {
   "cell_type": "code",
   "execution_count": 7,
   "id": "9a982dd1",
   "metadata": {},
   "outputs": [
    {
     "data": {
      "text/plain": [
       "0.16542054202285508"
      ]
     },
     "execution_count": 7,
     "metadata": {},
     "output_type": "execute_result"
    }
   ],
   "source": [
    "np.mean(dists_nike)"
   ]
  },
  {
   "cell_type": "code",
   "execution_count": null,
   "id": "733fbf04",
   "metadata": {},
   "outputs": [],
   "source": []
  }
 ],
 "metadata": {
  "kernelspec": {
   "display_name": "Python 3 (ipykernel)",
   "language": "python",
   "name": "python3"
  },
  "language_info": {
   "codemirror_mode": {
    "name": "ipython",
    "version": 3
   },
   "file_extension": ".py",
   "mimetype": "text/x-python",
   "name": "python",
   "nbconvert_exporter": "python",
   "pygments_lexer": "ipython3",
   "version": "3.9.12"
  }
 },
 "nbformat": 4,
 "nbformat_minor": 5
}
