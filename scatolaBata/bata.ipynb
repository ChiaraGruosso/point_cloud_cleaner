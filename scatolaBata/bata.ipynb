{
 "cells": [
  {
   "cell_type": "code",
   "execution_count": 1,
   "id": "3783cc10",
   "metadata": {},
   "outputs": [
    {
     "name": "stdout",
     "output_type": "stream",
     "text": [
      "Jupyter environment detected. Enabling Open3D WebVisualizer.\n",
      "[Open3D INFO] WebRTC GUI backend enabled.\n",
      "[Open3D INFO] WebRTCWindowSystem: HTTP handshake server disabled.\n"
     ]
    }
   ],
   "source": [
    "import open3d as o3d\n",
    "import numpy as np"
   ]
  },
  {
   "cell_type": "markdown",
   "id": "c7a90ce4",
   "metadata": {},
   "source": [
    "# Define functions"
   ]
  },
  {
   "cell_type": "code",
   "execution_count": 10,
   "id": "b02d17d1",
   "metadata": {},
   "outputs": [],
   "source": [
    "def visualize_point_cloud(nome_point_cloud):\n",
    "    pcd = o3d.io.read_point_cloud(nome_point_cloud, format = 'ply')\n",
    "    print(np.asarray(pcd.points))\n",
    "    o3d.visualization.draw_geometries([pcd])\n",
    "    return pcd"
   ]
  },
  {
   "cell_type": "code",
   "execution_count": 13,
   "id": "cc5e020d",
   "metadata": {},
   "outputs": [],
   "source": [
    "def display_inlier_outlier(cloud, ind):\n",
    "    inlier_cloud = cloud.select_by_index(ind)\n",
    "    outlier_cloud = cloud.select_by_index(ind, invert = True)\n",
    "\n",
    "    #print(\"Showing outliers (red) and inliers (gray): \")\n",
    "    #outlier_cloud.paint_uniform_color([1, 0, 0])\n",
    "    #inlier_cloud.paint_uniform_color([0.8, 0.8, 0.8])\n",
    "    o3d.visualization.draw_geometries([inlier_cloud])\n",
    "    #print(\"inlier_cloud: \", inlier_cloud)"
   ]
  },
  {
   "cell_type": "code",
   "execution_count": 14,
   "id": "cbc23c3b",
   "metadata": {},
   "outputs": [],
   "source": [
    "def save_point_cloud(nome_file, punti_utili, colori_utili):\n",
    "    file = open(nome_file,\"w\")\n",
    "    file.write(\"ply \\n\")\n",
    "    file.write(\"format ascii 1.0 \\n\")\n",
    "    file.write(\"element vertex \" + str(punti_utili.shape[0]) + \"\\n\")\n",
    "    file.write(\"property float x \\n\")\n",
    "    file.write(\"property float y \\n\")\n",
    "    file.write(\"property float z \\n\")\n",
    "    file.write(\"property uchar red \\n\")\n",
    "    file.write(\"property uchar green \\n\")\n",
    "    file.write(\"property uchar blue \\n\")\n",
    "    file.write(\"end_header \\n\")\n",
    "    i = 0\n",
    "    j = 0\n",
    "    x = 0\n",
    "    for i in range(np.shape(punti_utili)[0]):\n",
    "        for j in range (3):\n",
    "            file.write(str(punti_utili[i, j]) + \" \")\n",
    "        for x in range (3):\n",
    "            file.write(str(colori_utili[i, x]) + \" \")\n",
    "        file.write(\"\\n\")"
   ]
  },
  {
   "cell_type": "code",
   "execution_count": 15,
   "id": "9060e7f6",
   "metadata": {},
   "outputs": [],
   "source": [
    "#Modificare il valore di nb_neighbors per specificare quanti vicini devono essere presi in considerazione per calcolare la distanza media per un dato punto\n",
    "#Modificare il valore di std_ratio in base a quanto aggressiva si vuole la funzione, rispettivamente più è basso il valore più outlier verranno eliminati \n",
    "def statistical_outlier_removal(pcd, nb_neighbors, std_ratio):\n",
    "    print(\"Statistical outlier removal\")\n",
    "    cl, ind = pcd.remove_statistical_outlier(nb_neighbors, std_ratio)\n",
    "    display_inlier_outlier(pcd, ind)\n",
    "    return cl"
   ]
  },
  {
   "cell_type": "code",
   "execution_count": 16,
   "id": "526d3fb8",
   "metadata": {},
   "outputs": [],
   "source": [
    "#Modificare il valore di nb_points per selezionare la quantità minima di punti che la sfera deve contenere\n",
    "#Modificare il valore di radius per definire il raggio della sfera che verrà utilizzata per il conteggio dei vicini\n",
    "def radius_outlier_removal(pcd, nb_points, radius):\n",
    "    print(\"Radius outlier removal\")\n",
    "    cl, ind = pcd.remove_radius_outlier(nb_points, radius)\n",
    "    display_inlier_outlier(pcd, ind)\n",
    "    return cl"
   ]
  },
  {
   "cell_type": "markdown",
   "id": "4b2c53e2",
   "metadata": {},
   "source": [
    "# Point cloud cleaning"
   ]
  },
  {
   "cell_type": "code",
   "execution_count": 7,
   "id": "4d00b2de",
   "metadata": {},
   "outputs": [
    {
     "name": "stdout",
     "output_type": "stream",
     "text": [
      "[[ 0.817455  -0.14911    1.43862  ]\n",
      " [ 0.997424  -0.340987   1.73491  ]\n",
      " [ 0.0961574  0.385165   1.4249   ]\n",
      " ...\n",
      " [ 0.0507136  0.188813   1.98618  ]\n",
      " [ 0.168587   0.0949471  1.61455  ]\n",
      " [ 0.0633312  0.199371   1.32529  ]]\n",
      "[Open3D WARNING] GLFW Error: WGL: Failed to make context current: Handle non valido. \n"
     ]
    }
   ],
   "source": [
    "pcd = visualize_point_cloud(\"bata.ply\")"
   ]
  },
  {
   "cell_type": "code",
   "execution_count": 29,
   "id": "80a57afc",
   "metadata": {},
   "outputs": [
    {
     "name": "stdout",
     "output_type": "stream",
     "text": [
      "(array([     0,      1,      2, ..., 342702, 342703, 342704], dtype=int64),)\n",
      "(1, 272697)\n"
     ]
    }
   ],
   "source": [
    "min_x = -2.0\n",
    "max_x = 2.0\n",
    "min_y = -3.0\n",
    "max_y = 3.0\n",
    "min_z = -3.0\n",
    "max_z = 3.0\n",
    "#filtra per posizione in modo tale da restringere il campo di interesse della point cloud\n",
    "filtered_pcd = np.where((np.asarray(pcd.points)[:,0] < max_x) & (np.asarray(pcd.points)[:,0] > min_x) & \n",
    "                        (np.asarray(pcd.points)[:,1] < max_y) & (np.asarray(pcd.points)[:,1] > min_y) &\n",
    "                        (np.asarray(pcd.points)[:,2] < max_z) & (np.asarray(pcd.points)[:,1] > min_z))\n",
    "print(filtered_pcd)\n",
    "print(np.shape(filtered_pcd))"
   ]
  },
  {
   "cell_type": "code",
   "execution_count": 30,
   "id": "d69e1566",
   "metadata": {},
   "outputs": [
    {
     "name": "stdout",
     "output_type": "stream",
     "text": [
      "(272697, 3)\n",
      "(272697, 3)\n"
     ]
    }
   ],
   "source": [
    "punti_utili = np.zeros((np.shape(filtered_pcd)[1], 3), dtype = float)\n",
    "colori_utili = np.zeros((np.shape(filtered_pcd)[1], 3), dtype = float)\n",
    "print(np.shape(punti_utili))\n",
    "print(np.shape(colori_utili))"
   ]
  },
  {
   "cell_type": "code",
   "execution_count": 31,
   "id": "3da2ee8c",
   "metadata": {},
   "outputs": [
    {
     "name": "stdout",
     "output_type": "stream",
     "text": [
      "[[ 0.817455  -0.14911    1.43862  ]\n",
      " [ 0.997424  -0.340987   1.73491  ]\n",
      " [ 0.0961574  0.385165   1.4249   ]\n",
      " ...\n",
      " [ 0.0507136  0.188813   1.98618  ]\n",
      " [ 0.168587   0.0949471  1.61455  ]\n",
      " [ 0.0633312  0.199371   1.32529  ]]\n"
     ]
    }
   ],
   "source": [
    "#filtra i punti e li salva in una nuova matrice\n",
    "i = 0\n",
    "j = 0\n",
    "x = 0\n",
    "for i in range(np.shape(np.asarray(pcd.points))[0]):\n",
    "    if ((np.asarray(pcd.points)[i,0] < max_x) & (np.asarray(pcd.points)[i,0] > min_x) & \n",
    "        (np.asarray(pcd.points)[i,1] < max_y) & (np.asarray(pcd.points)[i,1] > min_y) &\n",
    "        (np.asarray(pcd.points)[i,2] < max_z) & (np.asarray(pcd.points)[i,1] > min_z)):\n",
    "        for j in range(3):\n",
    "            punti_utili[x,j] = np.asarray(pcd.points)[i,j]\n",
    "        x = x + 1\n",
    "print(punti_utili)"
   ]
  },
  {
   "cell_type": "code",
   "execution_count": 32,
   "id": "46cce417",
   "metadata": {
    "scrolled": true
   },
   "outputs": [
    {
     "name": "stdout",
     "output_type": "stream",
     "text": [
      "[[  0 255   0]\n",
      " [  0 255   0]\n",
      " [  0 255   0]\n",
      " ...\n",
      " [141 166 198]\n",
      " [  0   0   0]\n",
      " [  1   0   0]]\n"
     ]
    }
   ],
   "source": [
    "#crea una nuova matrice con i colori dei punti che non nel campo di interesse e li riporta in scala [0, 255]\n",
    "i = 0\n",
    "j = 0\n",
    "x = 0\n",
    "for i in range(np.shape(np.asarray(pcd.points))[0]):\n",
    "    if ((np.asarray(pcd.points)[i,0] < max_x) & (np.asarray(pcd.points)[i,0] > min_x) & \n",
    "        (np.asarray(pcd.points)[i,1] < max_y) & (np.asarray(pcd.points)[i,1] > min_y) &\n",
    "        (np.asarray(pcd.points)[i,2] < max_z) & (np.asarray(pcd.points)[i,1] > min_z)):\n",
    "        for j in range(3):\n",
    "            colori_utili[x,j] = np.asarray(pcd.colors)[i,j]*255\n",
    "        x = x + 1\n",
    "colori_utili = colori_utili.astype(int)\n",
    "print(colori_utili)"
   ]
  },
  {
   "cell_type": "code",
   "execution_count": 33,
   "id": "132a59e7",
   "metadata": {},
   "outputs": [],
   "source": [
    "save_point_cloud(\"pointCloud_PrimaModifica_bata.ply\", punti_utili, colori_utili)"
   ]
  },
  {
   "cell_type": "code",
   "execution_count": 8,
   "id": "5e151523",
   "metadata": {},
   "outputs": [
    {
     "name": "stdout",
     "output_type": "stream",
     "text": [
      "[[ 0.817455  -0.14911    1.43862  ]\n",
      " [ 0.997424  -0.340987   1.73491  ]\n",
      " [ 0.0961574  0.385165   1.4249   ]\n",
      " ...\n",
      " [ 0.0507136  0.188813   1.98618  ]\n",
      " [ 0.168587   0.0949471  1.61455  ]\n",
      " [ 0.0633312  0.199371   1.32529  ]]\n"
     ]
    }
   ],
   "source": [
    "pcd_first_modify = visualize_point_cloud(\"pointCloud_PrimaModifica_bata.ply\")"
   ]
  },
  {
   "cell_type": "code",
   "execution_count": 35,
   "id": "a2dee86d",
   "metadata": {},
   "outputs": [
    {
     "name": "stdout",
     "output_type": "stream",
     "text": [
      "9.78069\n",
      "-6.29391\n"
     ]
    }
   ],
   "source": [
    "# property float x\n",
    "print(max(np.asarray(pcd.points)[:,0]))\n",
    "print(min(np.asarray(pcd.points)[:,0]))"
   ]
  },
  {
   "cell_type": "code",
   "execution_count": 36,
   "id": "2724a77e",
   "metadata": {},
   "outputs": [
    {
     "name": "stdout",
     "output_type": "stream",
     "text": [
      "5.84287\n",
      "-6.18714\n"
     ]
    }
   ],
   "source": [
    "# property float y\n",
    "print(max(np.asarray(pcd.points)[:,1]))\n",
    "print(min(np.asarray(pcd.points)[:,1]))"
   ]
  },
  {
   "cell_type": "code",
   "execution_count": 37,
   "id": "b29fca22",
   "metadata": {},
   "outputs": [
    {
     "name": "stdout",
     "output_type": "stream",
     "text": [
      "12.4549\n",
      "-3.42999\n"
     ]
    }
   ],
   "source": [
    "# property float z\n",
    "print(max(np.asarray(pcd.points)[:,2]))\n",
    "print(min(np.asarray(pcd.points)[:,2]))"
   ]
  },
  {
   "cell_type": "code",
   "execution_count": 38,
   "id": "99e7c2a0",
   "metadata": {},
   "outputs": [
    {
     "name": "stdout",
     "output_type": "stream",
     "text": [
      "(array([  2198,   2199,   2200, ..., 272694, 272695, 272696], dtype=int64),)\n",
      "(1, 270342)\n"
     ]
    }
   ],
   "source": [
    "green_value = 1\n",
    "#elimina le telecamere che sono completamente verdi\n",
    "filtered_pcd_green_less = np.where((np.asarray(pcd_first_modify.colors)[:,1] != green_value))\n",
    "print(filtered_pcd_green_less)\n",
    "print(np.shape(filtered_pcd_green_less))"
   ]
  },
  {
   "cell_type": "code",
   "execution_count": 39,
   "id": "ec891238",
   "metadata": {},
   "outputs": [
    {
     "name": "stdout",
     "output_type": "stream",
     "text": [
      "(270342, 3)\n",
      "(270342, 3)\n"
     ]
    }
   ],
   "source": [
    "punti_utili_green_less = np.zeros((np.shape(filtered_pcd_green_less)[1], 3), dtype = float)\n",
    "colori_utili_green_less = np.zeros((np.shape(filtered_pcd_green_less)[1], 3), dtype = float)\n",
    "print(np.shape(punti_utili_green_less))\n",
    "print(np.shape(colori_utili_green_less))"
   ]
  },
  {
   "cell_type": "code",
   "execution_count": 40,
   "id": "dd3f3709",
   "metadata": {},
   "outputs": [
    {
     "name": "stdout",
     "output_type": "stream",
     "text": [
      "[[0.0355728 0.196954  2.01228  ]\n",
      " [0.0161714 0.16316   1.9858   ]\n",
      " [0.0683236 0.153718  1.9817   ]\n",
      " ...\n",
      " [0.0507136 0.188813  1.98618  ]\n",
      " [0.168587  0.0949471 1.61455  ]\n",
      " [0.0633312 0.199371  1.32529  ]]\n"
     ]
    }
   ],
   "source": [
    "#filtra i punti e li salva in una nuova matrice\n",
    "i = 0\n",
    "j = 0\n",
    "x = 0\n",
    "for i in range(np.shape(np.asarray(pcd_first_modify.points))[0]):\n",
    "    if (np.asarray(pcd_first_modify.colors)[i,1] != green_value):\n",
    "        for j in range(3):\n",
    "            punti_utili_green_less[x,j] = np.asarray(pcd_first_modify.points)[i,j]\n",
    "        x = x + 1\n",
    "print(punti_utili_green_less)"
   ]
  },
  {
   "cell_type": "code",
   "execution_count": 41,
   "id": "1fccc8e7",
   "metadata": {},
   "outputs": [
    {
     "name": "stdout",
     "output_type": "stream",
     "text": [
      "[[189 215 254]\n",
      " [ 87  77  48]\n",
      " [187 187 179]\n",
      " ...\n",
      " [141 166 198]\n",
      " [  0   0   0]\n",
      " [  1   0   0]]\n"
     ]
    }
   ],
   "source": [
    "#crea una nuova matrice con i colori dei punti che non sono telecamere e li riporta in scala [0, 255]\n",
    "i = 0\n",
    "j = 0\n",
    "x = 0\n",
    "for i in range(np.shape(np.asarray(pcd_first_modify.points))[0]):\n",
    "    if (np.asarray(pcd_first_modify.colors)[i,1] != green_value):\n",
    "        for j in range(3):\n",
    "            colori_utili_green_less[x,j] = np.asarray(pcd_first_modify.colors)[i,j] * 255\n",
    "        x = x + 1\n",
    "colori_utili_green_less = colori_utili_green_less.astype(int)\n",
    "print(colori_utili_green_less)"
   ]
  },
  {
   "cell_type": "code",
   "execution_count": 42,
   "id": "6bdc86ef",
   "metadata": {},
   "outputs": [],
   "source": [
    "save_point_cloud(\"pointCloud_SecondaModifica_bata.ply\", punti_utili_green_less, colori_utili_green_less)"
   ]
  },
  {
   "cell_type": "code",
   "execution_count": 11,
   "id": "87367e37",
   "metadata": {},
   "outputs": [
    {
     "name": "stdout",
     "output_type": "stream",
     "text": [
      "[[0.0355728 0.196954  2.01228  ]\n",
      " [0.0161714 0.16316   1.9858   ]\n",
      " [0.0683236 0.153718  1.9817   ]\n",
      " ...\n",
      " [0.0507136 0.188813  1.98618  ]\n",
      " [0.168587  0.0949471 1.61455  ]\n",
      " [0.0633312 0.199371  1.32529  ]]\n",
      "[Open3D WARNING] GLFW Error: WGL: Failed to make context current: L'operazione di trasformazione richiesta non è supportata. \n"
     ]
    }
   ],
   "source": [
    "pcd_second_modify = visualize_point_cloud(\"pointCloud_SecondaModifica_bata.ply\")"
   ]
  },
  {
   "cell_type": "code",
   "execution_count": 17,
   "id": "784bd02f",
   "metadata": {},
   "outputs": [
    {
     "name": "stdout",
     "output_type": "stream",
     "text": [
      "Statistical outlier removal\n"
     ]
    }
   ],
   "source": [
    "cl_statical = statistical_outlier_removal(pcd_second_modify, 20, 2.0)"
   ]
  },
  {
   "cell_type": "code",
   "execution_count": 19,
   "id": "8b4cc315",
   "metadata": {},
   "outputs": [
    {
     "name": "stdout",
     "output_type": "stream",
     "text": [
      "Statistical outlier removal\n"
     ]
    }
   ],
   "source": [
    "cl_statical2 = statistical_outlier_removal(cl_statical, 20, 2.0)"
   ]
  },
  {
   "cell_type": "code",
   "execution_count": 22,
   "id": "23fb3cc9",
   "metadata": {},
   "outputs": [
    {
     "name": "stdout",
     "output_type": "stream",
     "text": [
      "Radius outlier removal\n"
     ]
    }
   ],
   "source": [
    "cl_radius = radius_outlier_removal(cl_statical2, 16, 0.5)"
   ]
  },
  {
   "cell_type": "code",
   "execution_count": 47,
   "id": "bb35b629",
   "metadata": {
    "scrolled": true
   },
   "outputs": [
    {
     "name": "stdout",
     "output_type": "stream",
     "text": [
      "[[0.0355728 0.196954  2.01228  ]\n",
      " [0.0161714 0.16316   1.9858   ]\n",
      " [0.0683236 0.153718  1.9817   ]\n",
      " ...\n",
      " [0.203753  0.0393841 1.91172  ]\n",
      " [0.164142  0.0331354 1.92038  ]\n",
      " [0.0507136 0.188813  1.98618  ]]\n",
      " \n",
      "[[189 215 254]\n",
      " [ 87  77  48]\n",
      " [187 187 179]\n",
      " ...\n",
      " [130  99  70]\n",
      " [123  92  63]\n",
      " [141 166 198]]\n"
     ]
    }
   ],
   "source": [
    "print(np.asarray(cl_radius.points))\n",
    "print(\" \")\n",
    "cl_radius_colori = np.asarray(cl_radius.colors) * 255\n",
    "cl_radius_colori = cl_radius_colori.astype(int)\n",
    "print(cl_radius_colori)"
   ]
  },
  {
   "cell_type": "code",
   "execution_count": 48,
   "id": "d51db6e5",
   "metadata": {},
   "outputs": [],
   "source": [
    "save_point_cloud(\"pointCloud_TerzaModifica_bata.ply\", np.asarray(cl_radius.points), cl_radius_colori)"
   ]
  },
  {
   "cell_type": "code",
   "execution_count": null,
   "id": "a23af6bb",
   "metadata": {},
   "outputs": [],
   "source": [
    "pcd_third_modify = visualize_point_cloud(\"pointCloud_TerzaModifica_bata.ply\")"
   ]
  },
  {
   "cell_type": "code",
   "execution_count": 50,
   "id": "f7871e1c",
   "metadata": {},
   "outputs": [
    {
     "name": "stdout",
     "output_type": "stream",
     "text": [
      "(array([     0,      1,      3, ..., 251740, 251741, 251742], dtype=int64),)\n",
      "(1, 243162)\n"
     ]
    }
   ],
   "source": [
    "range_value = 0.019\n",
    "#filtra i colori grigi\n",
    "filtered_pcd_gray_less = np.where((np.asarray(pcd_third_modify.colors)[:,0] > ((np.asarray(pcd_third_modify.colors)[:,1]) + range_value)) | \n",
    "                                  (np.asarray(pcd_third_modify.colors)[:,0] < ((np.asarray(pcd_third_modify.colors)[:,1]) - range_value)) & \n",
    "                                  (np.asarray(pcd_third_modify.colors)[:,0] > ((np.asarray(pcd_third_modify.colors)[:,2]) + range_value)) | \n",
    "                                  (np.asarray(pcd_third_modify.colors)[:,0] < ((np.asarray(pcd_third_modify.colors)[:,2]) - range_value)))\n",
    "print(filtered_pcd_gray_less)\n",
    "print(np.shape(filtered_pcd_gray_less))"
   ]
  },
  {
   "cell_type": "code",
   "execution_count": 51,
   "id": "39d7962d",
   "metadata": {},
   "outputs": [
    {
     "name": "stdout",
     "output_type": "stream",
     "text": [
      "(243162, 3)\n",
      "(243162, 3)\n"
     ]
    }
   ],
   "source": [
    "punti_utili_gray_less = np.zeros((np.shape(filtered_pcd_gray_less)[1], 3), dtype = float)\n",
    "colori_utili_gray_less = np.zeros((np.shape(filtered_pcd_gray_less)[1], 3), dtype = float)\n",
    "print(np.shape(punti_utili_gray_less))\n",
    "print(np.shape(colori_utili_gray_less))"
   ]
  },
  {
   "cell_type": "code",
   "execution_count": 52,
   "id": "06256f5d",
   "metadata": {},
   "outputs": [
    {
     "name": "stdout",
     "output_type": "stream",
     "text": [
      "[[0.0355728 0.196954  2.01228  ]\n",
      " [0.0161714 0.16316   1.9858   ]\n",
      " [0.0640235 0.250512  2.05054  ]\n",
      " ...\n",
      " [0.203753  0.0393841 1.91172  ]\n",
      " [0.164142  0.0331354 1.92038  ]\n",
      " [0.0507136 0.188813  1.98618  ]]\n"
     ]
    }
   ],
   "source": [
    "#filtra i punti e li salva in una nuova matrice\n",
    "i = 0\n",
    "j = 0\n",
    "x = 0\n",
    "for i in range(np.shape(np.asarray(pcd_third_modify.points))[0]):\n",
    "    if ((np.asarray(pcd_third_modify.colors)[i,0] > ((np.asarray(pcd_third_modify.colors)[i,1]) + range_value)) | \n",
    "        (np.asarray(pcd_third_modify.colors)[i,0] < ((np.asarray(pcd_third_modify.colors)[i,1]) - range_value)) & \n",
    "        (np.asarray(pcd_third_modify.colors)[i,0] > ((np.asarray(pcd_third_modify.colors)[i,2]) + range_value)) | \n",
    "        (np.asarray(pcd_third_modify.colors)[i,0] < ((np.asarray(pcd_third_modify.colors)[i,2]) - range_value))):\n",
    "        for j in range(3):\n",
    "            punti_utili_gray_less[x,j] = np.asarray(pcd_third_modify.points)[i,j]\n",
    "        x = x + 1\n",
    "print(punti_utili_gray_less)"
   ]
  },
  {
   "cell_type": "code",
   "execution_count": 53,
   "id": "660e24db",
   "metadata": {},
   "outputs": [
    {
     "name": "stdout",
     "output_type": "stream",
     "text": [
      "[[189 215 254]\n",
      " [ 87  77  48]\n",
      " [121  91  66]\n",
      " ...\n",
      " [130  99  70]\n",
      " [123  92  63]\n",
      " [141 166 198]]\n"
     ]
    }
   ],
   "source": [
    "#crea una nuova matrice con i colori dei punti che non superano la soglia e li riporta in scala [0, 255]\n",
    "i = 0\n",
    "j = 0\n",
    "x = 0\n",
    "for i in range(np.shape(np.asarray(pcd_third_modify.points))[0]):\n",
    "    if ((np.asarray(pcd_third_modify.colors)[i,0] > ((np.asarray(pcd_third_modify.colors)[i,1]) + range_value)) | \n",
    "        (np.asarray(pcd_third_modify.colors)[i,0] < ((np.asarray(pcd_third_modify.colors)[i,1]) - range_value)) & \n",
    "        (np.asarray(pcd_third_modify.colors)[i,0] > ((np.asarray(pcd_third_modify.colors)[i,2]) + range_value)) | \n",
    "        (np.asarray(pcd_third_modify.colors)[i,0] < ((np.asarray(pcd_third_modify.colors)[i,2]) - range_value))):\n",
    "        for j in range(3):\n",
    "            colori_utili_gray_less[x,j] = np.asarray(pcd_third_modify.colors)[i,j] * 255\n",
    "        x = x + 1\n",
    "colori_utili_gray_less = colori_utili_gray_less.astype(int)\n",
    "print(colori_utili_gray_less)"
   ]
  },
  {
   "cell_type": "code",
   "execution_count": 54,
   "id": "348b5238",
   "metadata": {},
   "outputs": [],
   "source": [
    "save_point_cloud(\"pointCloud_GrayLess_bata.ply\", punti_utili_gray_less, colori_utili_gray_less)"
   ]
  },
  {
   "cell_type": "code",
   "execution_count": 55,
   "id": "810a8dc4",
   "metadata": {},
   "outputs": [
    {
     "name": "stdout",
     "output_type": "stream",
     "text": [
      "[[0.0355728 0.196954  2.01228  ]\n",
      " [0.0161714 0.16316   1.9858   ]\n",
      " [0.0640235 0.250512  2.05054  ]\n",
      " ...\n",
      " [0.203753  0.0393841 1.91172  ]\n",
      " [0.164142  0.0331354 1.92038  ]\n",
      " [0.0507136 0.188813  1.98618  ]]\n"
     ]
    }
   ],
   "source": [
    "pcd_gray_less = visualize_point_cloud(\"pointCloud_GrayLess_bata.ply\")"
   ]
  },
  {
   "cell_type": "code",
   "execution_count": 56,
   "id": "231a5c51",
   "metadata": {},
   "outputs": [
    {
     "name": "stdout",
     "output_type": "stream",
     "text": [
      "(array([     1,      2,      4, ..., 243158, 243159, 243160], dtype=int64),)\n",
      "(1, 199182)\n"
     ]
    }
   ],
   "source": [
    "blue_value = 0.66\n",
    "#filtra i colori sul blu\n",
    "filtered_pcd_blue_less = np.where(((np.asarray(pcd_gray_less.colors)[:,0]) > (np.asarray(pcd_gray_less.colors)[:,2])) &\n",
    "                                  ((np.asarray(pcd_gray_less.colors)[:,1]) > (np.asarray(pcd_gray_less.colors)[:,2])) &\n",
    "                                  ((np.asarray(pcd_gray_less.colors)[:,2]) < blue_value))\n",
    "print(filtered_pcd_blue_less)\n",
    "print(np.shape(filtered_pcd_blue_less))"
   ]
  },
  {
   "cell_type": "code",
   "execution_count": 57,
   "id": "5990a8cf",
   "metadata": {},
   "outputs": [
    {
     "name": "stdout",
     "output_type": "stream",
     "text": [
      "(199182, 3)\n",
      "(199182, 3)\n"
     ]
    }
   ],
   "source": [
    "punti_utili_blue_less = np.zeros((np.shape(filtered_pcd_blue_less)[1], 3), dtype = float)\n",
    "colori_utili_blue_less = np.zeros((np.shape(filtered_pcd_blue_less)[1], 3), dtype = float)\n",
    "print(np.shape(punti_utili_blue_less))\n",
    "print(np.shape(colori_utili_blue_less))"
   ]
  },
  {
   "cell_type": "code",
   "execution_count": 58,
   "id": "b6c5bf44",
   "metadata": {},
   "outputs": [
    {
     "name": "stdout",
     "output_type": "stream",
     "text": [
      "[[ 1.61714e-02  1.63160e-01  1.98580e+00]\n",
      " [ 6.40235e-02  2.50512e-01  2.05054e+00]\n",
      " [ 2.35207e-03  1.68977e-01  1.98956e+00]\n",
      " ...\n",
      " [ 1.46329e-01 -8.90432e-04  1.94789e+00]\n",
      " [ 2.03753e-01  3.93841e-02  1.91172e+00]\n",
      " [ 1.64142e-01  3.31354e-02  1.92038e+00]]\n"
     ]
    }
   ],
   "source": [
    "#filtra i punti e li salva in una nuova matrice\n",
    "i = 0\n",
    "j = 0\n",
    "x = 0\n",
    "for i in range(np.shape(np.asarray(pcd_gray_less.points))[0]):\n",
    "    if (((np.asarray(pcd_gray_less.colors)[i,0]) > (np.asarray(pcd_gray_less.colors)[i,2])) &\n",
    "        ((np.asarray(pcd_gray_less.colors)[i,1]) > (np.asarray(pcd_gray_less.colors)[i,2])) &\n",
    "        ((np.asarray(pcd_gray_less.colors)[i,2]) < blue_value)):\n",
    "        for j in range(3):\n",
    "            punti_utili_blue_less[x,j] = np.asarray(pcd_gray_less.points)[i,j]\n",
    "        x = x + 1\n",
    "print(punti_utili_blue_less)"
   ]
  },
  {
   "cell_type": "code",
   "execution_count": 59,
   "id": "45f9007d",
   "metadata": {},
   "outputs": [
    {
     "name": "stdout",
     "output_type": "stream",
     "text": [
      "[[ 87  77  48]\n",
      " [121  91  66]\n",
      " [ 56  47  27]\n",
      " ...\n",
      " [177 154 130]\n",
      " [130  99  70]\n",
      " [123  92  63]]\n"
     ]
    }
   ],
   "source": [
    "#crea una nuova matrice con i colori dei punti che non superano la soglia e li riporta in scala [0, 255]\n",
    "i = 0\n",
    "j = 0\n",
    "x = 0\n",
    "for i in range(np.shape(np.asarray(pcd_gray_less.points))[0]):\n",
    "    if (((np.asarray(pcd_gray_less.colors)[i,0]) > (np.asarray(pcd_gray_less.colors)[i,2])) &\n",
    "        ((np.asarray(pcd_gray_less.colors)[i,1]) > (np.asarray(pcd_gray_less.colors)[i,2])) &\n",
    "        ((np.asarray(pcd_gray_less.colors)[i,2]) < blue_value)):\n",
    "        for j in range(3):\n",
    "            colori_utili_blue_less[x,j] = np.asarray(pcd_gray_less.colors)[i,j] * 255\n",
    "        x = x + 1\n",
    "colori_utili_blue_less = colori_utili_blue_less.astype(int)\n",
    "print(colori_utili_blue_less)"
   ]
  },
  {
   "cell_type": "code",
   "execution_count": 60,
   "id": "3ed439ff",
   "metadata": {},
   "outputs": [],
   "source": [
    "save_point_cloud(\"pointCloud_BlueLess_bata.ply\", punti_utili_blue_less, colori_utili_blue_less)"
   ]
  },
  {
   "cell_type": "code",
   "execution_count": 7,
   "id": "b60d75fe",
   "metadata": {},
   "outputs": [
    {
     "name": "stdout",
     "output_type": "stream",
     "text": [
      "[[ 1.61714e-02  1.63160e-01  1.98580e+00]\n",
      " [ 6.40235e-02  2.50512e-01  2.05054e+00]\n",
      " [ 2.35207e-03  1.68977e-01  1.98956e+00]\n",
      " ...\n",
      " [ 1.46329e-01 -8.90432e-04  1.94789e+00]\n",
      " [ 2.03753e-01  3.93841e-02  1.91172e+00]\n",
      " [ 1.64142e-01  3.31354e-02  1.92038e+00]]\n"
     ]
    }
   ],
   "source": [
    "pcd_blue_less = visualize_point_cloud(\"pointCloud_BlueLess_bata.ply\")"
   ]
  },
  {
   "cell_type": "code",
   "execution_count": 8,
   "id": "f3c0c216",
   "metadata": {},
   "outputs": [
    {
     "name": "stdout",
     "output_type": "stream",
     "text": [
      "Statistical outlier removal\n",
      "Showing outliers (red) and inliers (gray): \n"
     ]
    }
   ],
   "source": [
    "cl_statical3 = statistical_outlier_removal(pcd_blue_less, 80, 2.0)"
   ]
  },
  {
   "cell_type": "code",
   "execution_count": 9,
   "id": "08ddb28f",
   "metadata": {},
   "outputs": [
    {
     "name": "stdout",
     "output_type": "stream",
     "text": [
      "alpha=0.300\n"
     ]
    }
   ],
   "source": [
    "#crea una mesh dalla point cloud\n",
    "alpha = 0.3\n",
    "\n",
    "print(f\"alpha = {alpha:.3f}\")\n",
    "mesh = o3d.geometry.TriangleMesh.create_from_point_cloud_alpha_shape(cl_statical3, alpha)\n",
    "mesh.compute_vertex_normals()\n",
    "o3d.visualization.draw_geometries([mesh], mesh_show_back_face = True)"
   ]
  },
  {
   "cell_type": "code",
   "execution_count": 10,
   "id": "dfdeaaf8",
   "metadata": {},
   "outputs": [
    {
     "name": "stdout",
     "output_type": "stream",
     "text": [
      "[Open3D WARNING] [ViewControl] SetViewPoint() failed because window height and width are not set.\n"
     ]
    }
   ],
   "source": [
    "#ricostruisce la point cloud dalla mesh\n",
    "pcd_ricostruita = mesh.sample_points_uniformly(number_of_points = 200000)\n",
    "o3d.visualization.draw_geometries([pcd_ricostruita])"
   ]
  },
  {
   "cell_type": "code",
   "execution_count": 92,
   "id": "aa2311b5",
   "metadata": {},
   "outputs": [
    {
     "name": "stdout",
     "output_type": "stream",
     "text": [
      "[[-0.07653915  0.02364968  1.84749406]\n",
      " [-0.07688607  0.03924939  1.84939751]\n",
      " [-0.06394922  0.03220384  1.84837935]\n",
      " ...\n",
      " [ 0.01863712 -0.03769238  2.52227686]\n",
      " [ 0.0135616  -0.07560691  2.56669333]\n",
      " [ 0.01624577 -0.04919757  2.534356  ]]\n",
      " \n",
      "[[163 137 117]\n",
      " [172 146 125]\n",
      " [188 160 138]\n",
      " ...\n",
      " [106  77  49]\n",
      " [107  77  50]\n",
      " [104  76  48]]\n"
     ]
    }
   ],
   "source": [
    "print(np.asarray(pcd_ricostruita.points))\n",
    "print(\" \")\n",
    "pcd_ricostruita_colori = np.asarray(pcd_ricostruita.colors) * 255\n",
    "pcd_ricostruita_colori = pcd_ricostruita_colori.astype(int)\n",
    "print(pcd_ricostruita_colori)"
   ]
  },
  {
   "cell_type": "code",
   "execution_count": 93,
   "id": "87cb7784",
   "metadata": {},
   "outputs": [],
   "source": [
    "save_point_cloud(\"pointCloud_Ricostruita_bata.ply\", np.asarray(pcd_ricostruita.points), pcd_ricostruita_colori)"
   ]
  },
  {
   "cell_type": "code",
   "execution_count": 8,
   "id": "18ad9bd6",
   "metadata": {},
   "outputs": [
    {
     "name": "stdout",
     "output_type": "stream",
     "text": [
      "[[-0.07653915  0.02364968  1.84749406]\n",
      " [-0.07688607  0.03924939  1.84939751]\n",
      " [-0.06394922  0.03220384  1.84837935]\n",
      " ...\n",
      " [ 0.01863712 -0.03769238  2.52227686]\n",
      " [ 0.0135616  -0.07560691  2.56669333]\n",
      " [ 0.01624577 -0.04919757  2.534356  ]]\n",
      "[Open3D WARNING] GLFW Error: WGL: Failed to make context current: L'operazione di trasformazione richiesta non è supportata. \n",
      "[Open3D WARNING] GLFW Error: WGL: Failed to make context current: Handle non valido. \n",
      "[Open3D WARNING] GLFW Error: WGL: Failed to make context current: L'operazione di trasformazione richiesta non è supportata. \n"
     ]
    }
   ],
   "source": [
    "pcd_finale = visualize_point_cloud(\"pointCloud_Ricostruita_bata.ply\")"
   ]
  },
  {
   "cell_type": "markdown",
   "id": "bd23fc9c",
   "metadata": {},
   "source": [
    "# Error estimate calculation"
   ]
  },
  {
   "cell_type": "code",
   "execution_count": null,
   "id": "06c23629",
   "metadata": {},
   "outputs": [],
   "source": [
    "#salva la mesh\n",
    "o3d.io.write_triangle_mesh(\"mesh_bata.ply\", mesh)"
   ]
  },
  {
   "cell_type": "code",
   "execution_count": 2,
   "id": "6dbf1b76",
   "metadata": {},
   "outputs": [],
   "source": [
    "#carica la mesh\n",
    "mesh_ruotata_bata = o3d.io.read_triangle_mesh(\"BataRuotata.ply\")\n",
    "o3d.visualization.draw_geometries([mesh_ruotata_bata], mesh_show_back_face = True)"
   ]
  },
  {
   "cell_type": "code",
   "execution_count": 3,
   "id": "cdad07a8",
   "metadata": {},
   "outputs": [],
   "source": [
    "#ricostruisce la point cloud dalla mesh\n",
    "pcd_ricostruita_ruotata_bata = mesh_ruotata_bata.sample_points_uniformly(number_of_points = 200000)\n",
    "o3d.visualization.draw_geometries([pcd_ricostruita_ruotata_bata])"
   ]
  },
  {
   "cell_type": "code",
   "execution_count": 4,
   "id": "dd23ff1c",
   "metadata": {},
   "outputs": [],
   "source": [
    "#carica la mesh\n",
    "mesh_scatola_bata = o3d.io.read_triangle_mesh(\"ScatolaBata.ply\")\n",
    "o3d.visualization.draw_geometries([mesh_scatola_bata], mesh_show_back_face = True)"
   ]
  },
  {
   "cell_type": "code",
   "execution_count": 5,
   "id": "29451e37",
   "metadata": {},
   "outputs": [],
   "source": [
    "#ricostruisce la point cloud dalla mesh\n",
    "pcd_scatola_bata = mesh_scatola_bata.sample_points_uniformly(number_of_points = 200000)\n",
    "o3d.visualization.draw_geometries([pcd_scatola_bata])"
   ]
  },
  {
   "cell_type": "code",
   "execution_count": 6,
   "id": "8a305988",
   "metadata": {},
   "outputs": [
    {
     "name": "stdout",
     "output_type": "stream",
     "text": [
      "[0.07522647 0.0749466  0.07586065 ... 0.043552   0.04423099 0.04980978]\n"
     ]
    }
   ],
   "source": [
    "#calcola la distanza da una nuvola di punti di origine a una nuvola di punti di destinazione \n",
    "#calcola per ogni punto nella nuvola di punti di origine la distanza dal punto più vicino nella nuvola di punti di destinazione\n",
    "dists_bata = pcd_ricostruita_ruotata_bata.compute_point_cloud_distance(pcd_scatola_bata)\n",
    "dists_bata = np.asarray(dists_bata)\n",
    "print(dists_bata)"
   ]
  },
  {
   "cell_type": "code",
   "execution_count": 7,
   "id": "e6155040",
   "metadata": {},
   "outputs": [
    {
     "data": {
      "text/plain": [
       "0.05401846822566649"
      ]
     },
     "execution_count": 7,
     "metadata": {},
     "output_type": "execute_result"
    }
   ],
   "source": [
    "np.mean(dists_bata)"
   ]
  },
  {
   "cell_type": "code",
   "execution_count": null,
   "id": "185d0e11",
   "metadata": {},
   "outputs": [],
   "source": []
  }
 ],
 "metadata": {
  "kernelspec": {
   "display_name": "Python 3 (ipykernel)",
   "language": "python",
   "name": "python3"
  },
  "language_info": {
   "codemirror_mode": {
    "name": "ipython",
    "version": 3
   },
   "file_extension": ".py",
   "mimetype": "text/x-python",
   "name": "python",
   "nbconvert_exporter": "python",
   "pygments_lexer": "ipython3",
   "version": "3.9.12"
  }
 },
 "nbformat": 4,
 "nbformat_minor": 5
}
