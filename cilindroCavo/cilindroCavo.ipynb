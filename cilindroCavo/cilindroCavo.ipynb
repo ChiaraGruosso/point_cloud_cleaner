{
 "cells": [
  {
   "cell_type": "code",
   "execution_count": 1,
   "id": "21edfceb",
   "metadata": {
    "scrolled": true
   },
   "outputs": [
    {
     "name": "stdout",
     "output_type": "stream",
     "text": [
      "Jupyter environment detected. Enabling Open3D WebVisualizer.\n",
      "[Open3D INFO] WebRTC GUI backend enabled.\n",
      "[Open3D INFO] WebRTCWindowSystem: HTTP handshake server disabled.\n"
     ]
    }
   ],
   "source": [
    "import open3d as o3d\n",
    "import numpy as np"
   ]
  },
  {
   "cell_type": "markdown",
   "id": "4713666e",
   "metadata": {},
   "source": [
    "# Define functions"
   ]
  },
  {
   "cell_type": "code",
   "execution_count": 2,
   "id": "1c83d883",
   "metadata": {
    "scrolled": true
   },
   "outputs": [],
   "source": [
    "def visualize_point_cloud(nome_point_cloud):\n",
    "    pcd = o3d.io.read_point_cloud(nome_point_cloud, format = 'ply')\n",
    "    print(np.asarray(pcd.points))\n",
    "    o3d.visualization.draw_geometries([pcd])\n",
    "    return pcd"
   ]
  },
  {
   "cell_type": "code",
   "execution_count": 3,
   "id": "2bb884ae",
   "metadata": {
    "scrolled": true
   },
   "outputs": [],
   "source": [
    "def display_inlier_outlier(cloud, ind):\n",
    "    inlier_cloud = cloud.select_by_index(ind)\n",
    "    outlier_cloud = cloud.select_by_index(ind, invert = True)\n",
    "\n",
    "    #print(\"Showing outliers (red) and inliers (gray): \")\n",
    "    #outlier_cloud.paint_uniform_color([1, 0, 0])\n",
    "    #inlier_cloud.paint_uniform_color([0.8, 0.8, 0.8])\n",
    "    o3d.visualization.draw_geometries([inlier_cloud])\n",
    "    #print(\"inlier_cloud: \", inlier_cloud)"
   ]
  },
  {
   "cell_type": "code",
   "execution_count": 4,
   "id": "3b41917a",
   "metadata": {
    "scrolled": true
   },
   "outputs": [],
   "source": [
    "def save_point_cloud(nome_file, punti_utili, colori_utili):\n",
    "    file = open(nome_file,\"w\")\n",
    "    file.write(\"ply \\n\")\n",
    "    file.write(\"format ascii 1.0 \\n\")\n",
    "    file.write(\"element vertex \" + str(punti_utili.shape[0]) + \"\\n\")\n",
    "    file.write(\"property float x \\n\")\n",
    "    file.write(\"property float y \\n\")\n",
    "    file.write(\"property float z \\n\")\n",
    "    file.write(\"property uchar red \\n\")\n",
    "    file.write(\"property uchar green \\n\")\n",
    "    file.write(\"property uchar blue \\n\")\n",
    "    file.write(\"end_header \\n\")\n",
    "    i = 0\n",
    "    j = 0\n",
    "    x = 0\n",
    "    for i in range(np.shape(punti_utili)[0]):\n",
    "        for j in range (3):\n",
    "            file.write(str(punti_utili[i, j]) + \" \")\n",
    "        for x in range (3):\n",
    "            file.write(str(colori_utili[i, x]) + \" \")\n",
    "        file.write(\"\\n\")"
   ]
  },
  {
   "cell_type": "code",
   "execution_count": 5,
   "id": "9ec579f0",
   "metadata": {
    "scrolled": true
   },
   "outputs": [],
   "source": [
    "#Modificare il valore di nb_neighbors per specificare quanti vicini devono essere presi in considerazione per calcolare la distanza media per un dato punto\n",
    "#Modificare il valore di std_ratio in base a quanto aggressiva si vuole la funzione, rispettivamente più è basso il valore più outlier verranno eliminati \n",
    "def statistical_outlier_removal(pcd, nb_neighbors, std_ratio):\n",
    "    print(\"Statistical outlier removal\")\n",
    "    cl, ind = pcd.remove_statistical_outlier(nb_neighbors, std_ratio)\n",
    "    display_inlier_outlier(pcd, ind)\n",
    "    return cl"
   ]
  },
  {
   "cell_type": "code",
   "execution_count": 6,
   "id": "c3bf8c6f",
   "metadata": {
    "scrolled": true
   },
   "outputs": [],
   "source": [
    "#Modificare il valore di nb_points per selezionare la quantità minima di punti che la sfera deve contenere\n",
    "#Modificare il valore di radius per definire il raggio della sfera che verrà utilizzata per il conteggio dei vicini\n",
    "def radius_outlier_removal(pcd, nb_points, radius):\n",
    "    print(\"Radius outlier removal\")\n",
    "    cl, ind = pcd.remove_radius_outlier(nb_points, radius)\n",
    "    display_inlier_outlier(pcd, ind)\n",
    "    return cl"
   ]
  },
  {
   "cell_type": "markdown",
   "id": "13e2d562",
   "metadata": {},
   "source": [
    "# Point cloud cleaning"
   ]
  },
  {
   "cell_type": "code",
   "execution_count": 25,
   "id": "3955eaa9",
   "metadata": {
    "scrolled": true
   },
   "outputs": [
    {
     "name": "stdout",
     "output_type": "stream",
     "text": [
      "[[ 5.97263  -1.9696    1.1652  ]\n",
      " [ 5.5911   -8.48562   4.05852 ]\n",
      " [-6.51422  -1.06304   1.56652 ]\n",
      " ...\n",
      " [ 3.55452  -6.54829   5.93991 ]\n",
      " [ 1.28527   0.940656  6.68124 ]\n",
      " [ 1.21416   0.310779  6.97567 ]]\n"
     ]
    }
   ],
   "source": [
    "pcd = visualize_point_cloud(\"PointCloud2000Buono.ply\")\n",
    "#pcd = visualize_point_cloud(\"PointCloud2000Fallato.ply\")\n",
    "#pcd = visualize_point_cloud(\"pointCloudPezzoBuono.ply\")\n",
    "#pcd = visualize_point_cloud(\"pointCloudPezzoFallato.ply\")"
   ]
  },
  {
   "cell_type": "code",
   "execution_count": 8,
   "id": "00e9d520",
   "metadata": {
    "scrolled": true
   },
   "outputs": [
    {
     "name": "stdout",
     "output_type": "stream",
     "text": [
      "(array([ 3618,  3619,  3620, ..., 89181, 89182, 89183], dtype=int64),)\n",
      "(1, 84150)\n"
     ]
    }
   ],
   "source": [
    "red_value = 0.88\n",
    "green_value = 1\n",
    "#filtra i colori più vicini al rosso ed elimina le telecamere che sono completamente verdi\n",
    "filtered_pcd = np.where((np.asarray(pcd.colors)[:,0] < red_value) & (np.asarray(pcd.colors)[:,1] != green_value))\n",
    "print(filtered_pcd)\n",
    "print(np.shape(filtered_pcd))"
   ]
  },
  {
   "cell_type": "code",
   "execution_count": 9,
   "id": "951e6750",
   "metadata": {
    "scrolled": true
   },
   "outputs": [
    {
     "name": "stdout",
     "output_type": "stream",
     "text": [
      "(84150, 3)\n",
      "(84150, 3)\n"
     ]
    }
   ],
   "source": [
    "punti_utili = np.zeros((np.shape(filtered_pcd)[1], 3), dtype = float)\n",
    "colori_utili = np.zeros((np.shape(filtered_pcd)[1], 3), dtype = float)\n",
    "print(np.shape(punti_utili))\n",
    "print(np.shape(colori_utili))"
   ]
  },
  {
   "cell_type": "code",
   "execution_count": 10,
   "id": "f612ad2f",
   "metadata": {
    "scrolled": false
   },
   "outputs": [
    {
     "name": "stdout",
     "output_type": "stream",
     "text": [
      "[[ 0.596226 -1.69364   7.66143 ]\n",
      " [ 1.19864  -1.4703    6.6767  ]\n",
      " [-0.652911 -1.15012   6.82994 ]\n",
      " ...\n",
      " [ 2.75244  -6.32066   6.12035 ]\n",
      " [ 1.33186  -1.50067   6.70713 ]\n",
      " [ 1.06321  -0.981919  7.31075 ]]\n"
     ]
    }
   ],
   "source": [
    "#filtra i punti e li salva in una nuova matrice\n",
    "i = 0\n",
    "j = 0\n",
    "x = 0\n",
    "for i in range(np.shape(np.asarray(pcd.points))[0]):\n",
    "    if (np.asarray(pcd.colors)[i,0] < red_value) & (np.asarray(pcd.colors)[i,1] != green_value):\n",
    "        for j in range(3):\n",
    "            punti_utili[x,j] = np.asarray(pcd.points)[i,j]\n",
    "        x = x + 1\n",
    "print(punti_utili)"
   ]
  },
  {
   "cell_type": "code",
   "execution_count": 11,
   "id": "9badec8c",
   "metadata": {
    "scrolled": true
   },
   "outputs": [
    {
     "name": "stdout",
     "output_type": "stream",
     "text": [
      "[[158 127  96]\n",
      " [150 166 187]\n",
      " [120  76  66]\n",
      " ...\n",
      " [146  80  52]\n",
      " [207 198 197]\n",
      " [159 147 193]]\n"
     ]
    }
   ],
   "source": [
    "#crea una nuova matrice con i colori dei punti che non superano la soglia e li riporta in scala [0, 255]\n",
    "i = 0\n",
    "j = 0\n",
    "x = 0\n",
    "for i in range(np.shape(np.asarray(pcd.points))[0]):\n",
    "    if (np.asarray(pcd.colors)[i,0] < red_value) & (np.asarray(pcd.colors)[i,1] != green_value):\n",
    "        for j in range(3):\n",
    "            colori_utili[x,j] = np.asarray(pcd.colors)[i,j] * 255\n",
    "        x = x + 1\n",
    "colori_utili = colori_utili.astype(int)\n",
    "print(colori_utili)"
   ]
  },
  {
   "cell_type": "code",
   "execution_count": 12,
   "id": "ffa1e2b8",
   "metadata": {
    "scrolled": true
   },
   "outputs": [],
   "source": [
    "save_point_cloud(\"pointCloud_PrimaModifica.ply\", punti_utili, colori_utili)"
   ]
  },
  {
   "cell_type": "code",
   "execution_count": 22,
   "id": "84876a71",
   "metadata": {
    "scrolled": true
   },
   "outputs": [
    {
     "name": "stdout",
     "output_type": "stream",
     "text": [
      "[[ 5.68844e-02  7.59518e-01  6.17800e+00]\n",
      " [-9.34126e-01  1.50593e+00  6.13586e+00]\n",
      " [ 3.87531e-01  1.41671e+00  5.85540e+00]\n",
      " ...\n",
      " [-1.46257e-01  8.32682e-01  5.81137e+00]\n",
      " [-1.26488e+00  1.81604e+00  5.44585e+00]\n",
      " [-1.43104e+00  6.50741e-03  6.87100e+00]]\n"
     ]
    }
   ],
   "source": [
    "pcd_first_modify = visualize_point_cloud(\"pointCloud_PrimaModifica.ply\")"
   ]
  },
  {
   "cell_type": "code",
   "execution_count": 14,
   "id": "2d528154",
   "metadata": {
    "scrolled": true
   },
   "outputs": [
    {
     "name": "stdout",
     "output_type": "stream",
     "text": [
      "Statistical outlier removal\n",
      "Showing outliers (red) and inliers (gray): \n",
      "[Open3D WARNING] GLFW Error: WGL: Failed to make context current: Handle non valido. \n",
      "[Open3D WARNING] GLFW Error: WGL: Failed to make context current: L'operazione di trasformazione richiesta non è supportata. \n"
     ]
    }
   ],
   "source": [
    "cl_statical = statistical_outlier_removal(pcd_first_modify, 20, 2.0) #Uguale per tutte e quattro le point cloud iniziali"
   ]
  },
  {
   "cell_type": "code",
   "execution_count": 15,
   "id": "839cada6",
   "metadata": {
    "scrolled": true
   },
   "outputs": [
    {
     "name": "stdout",
     "output_type": "stream",
     "text": [
      "Radius outlier removal\n",
      "Showing outliers (red) and inliers (gray): \n"
     ]
    }
   ],
   "source": [
    "cl_radius = radius_outlier_removal(cl_statical, 16, 0.5) #Uguale per tutte e quattro le point cloud iniziali"
   ]
  },
  {
   "cell_type": "code",
   "execution_count": 16,
   "id": "acf2524c",
   "metadata": {
    "scrolled": true
   },
   "outputs": [
    {
     "name": "stdout",
     "output_type": "stream",
     "text": [
      "(array([    0,     1,     2, ..., 80118, 80119, 80120], dtype=int64),)\n",
      "(1, 65411)\n"
     ]
    }
   ],
   "source": [
    "#filtra i colori più scuri\n",
    "filtered_cl_radius = np.where((np.asarray(cl_radius.colors)[:,0] > 0.20) & (np.asarray(cl_radius.colors)[:,1] > 0.20) &\n",
    "                             (np.asarray(cl_radius.colors)[:,2] > 0.20))\n",
    "print(filtered_cl_radius)\n",
    "print(np.shape(filtered_cl_radius))"
   ]
  },
  {
   "cell_type": "code",
   "execution_count": 17,
   "id": "c5c9efa1",
   "metadata": {
    "scrolled": true
   },
   "outputs": [
    {
     "name": "stdout",
     "output_type": "stream",
     "text": [
      "(65411, 3)\n",
      "(65411, 3)\n"
     ]
    }
   ],
   "source": [
    "punti_utili_radius = np.zeros((np.shape(filtered_cl_radius)[1], 3), dtype = float)\n",
    "colori_utili_radius = np.zeros((np.shape(filtered_cl_radius)[1], 3), dtype = float)\n",
    "print(np.shape(punti_utili_radius))\n",
    "print(np.shape(colori_utili_radius))"
   ]
  },
  {
   "cell_type": "code",
   "execution_count": 18,
   "id": "ca1b99b1",
   "metadata": {
    "scrolled": true
   },
   "outputs": [
    {
     "name": "stdout",
     "output_type": "stream",
     "text": [
      "[[ 0.596226 -1.69364   7.66143 ]\n",
      " [ 1.19864  -1.4703    6.6767  ]\n",
      " [-0.652911 -1.15012   6.82994 ]\n",
      " ...\n",
      " [ 2.75244  -6.32066   6.12035 ]\n",
      " [ 1.33186  -1.50067   6.70713 ]\n",
      " [ 1.06321  -0.981919  7.31075 ]]\n"
     ]
    }
   ],
   "source": [
    "#filtra i punti e li salva in una nuova matrice\n",
    "i = 0\n",
    "j = 0\n",
    "x = 0\n",
    "for i in range(np.shape(np.asarray(cl_radius.points))[0]):\n",
    "    if ((np.asarray(cl_radius.colors)[i,0] > 0.20) & (np.asarray(cl_radius.colors)[i,1] > 0.20) & \n",
    "        (np.asarray(cl_radius.colors)[i,2] > 0.20)):\n",
    "        for j in range(3):\n",
    "            punti_utili_radius[x,j] = np.asarray(cl_radius.points)[i,j]\n",
    "        x = x + 1\n",
    "print(punti_utili_radius)"
   ]
  },
  {
   "cell_type": "code",
   "execution_count": 19,
   "id": "6357b9a3",
   "metadata": {
    "scrolled": true
   },
   "outputs": [
    {
     "name": "stdout",
     "output_type": "stream",
     "text": [
      "[[158 127  96]\n",
      " [150 166 187]\n",
      " [120  76  66]\n",
      " ...\n",
      " [146  80  52]\n",
      " [207 198 197]\n",
      " [159 147 193]]\n"
     ]
    }
   ],
   "source": [
    "#creo una nuova matrice con i colori dei punti che non superano la soglia, e li riporto ai vecchi valori\n",
    "i = 0\n",
    "j = 0\n",
    "x = 0\n",
    "for i in range(np.shape(np.asarray(cl_radius.points))[0]):\n",
    "    if ((np.asarray(cl_radius.colors)[i,0] > 0.20) & (np.asarray(cl_radius.colors)[i,1] > 0.20) & \n",
    "        (np.asarray(cl_radius.colors)[i,2] > 0.20)):\n",
    "        for j in range(3):\n",
    "            colori_utili_radius[x,j] = np.asarray(cl_radius.colors)[i,j] * 255\n",
    "        x = x + 1\n",
    "colori_utili_radius = colori_utili_radius.astype(int)\n",
    "print(colori_utili_radius)"
   ]
  },
  {
   "cell_type": "code",
   "execution_count": 20,
   "id": "279422b4",
   "metadata": {
    "scrolled": true
   },
   "outputs": [],
   "source": [
    "save_point_cloud(\"pointCloud_SecondaModifica.ply\", punti_utili_radius, colori_utili_radius)"
   ]
  },
  {
   "cell_type": "code",
   "execution_count": 23,
   "id": "453df9ca",
   "metadata": {
    "scrolled": true
   },
   "outputs": [
    {
     "name": "stdout",
     "output_type": "stream",
     "text": [
      "[[ 5.68844e-02  7.59518e-01  6.17800e+00]\n",
      " [-9.34126e-01  1.50593e+00  6.13586e+00]\n",
      " [ 3.87531e-01  1.41671e+00  5.85540e+00]\n",
      " ...\n",
      " [-1.46257e-01  8.32682e-01  5.81137e+00]\n",
      " [-1.26488e+00  1.81604e+00  5.44585e+00]\n",
      " [-1.43104e+00  6.50741e-03  6.87100e+00]]\n",
      "[Open3D WARNING] GLFW Error: WGL: Failed to make context current: L'operazione di trasformazione richiesta non è supportata. \n"
     ]
    }
   ],
   "source": [
    "pcd_second_modify = visualize_point_cloud(\"pointCloud_SecondaModifica.ply\")"
   ]
  },
  {
   "cell_type": "code",
   "execution_count": 11,
   "id": "368cb57c",
   "metadata": {
    "scrolled": true
   },
   "outputs": [
    {
     "name": "stdout",
     "output_type": "stream",
     "text": [
      "Statistical outlier removal\n",
      "Showing outliers (red) and inliers (gray): \n",
      "[Open3D WARNING] GLFW Error: WGL: Failed to make context current: L'operazione di trasformazione richiesta non è supportata. \n"
     ]
    }
   ],
   "source": [
    "cl_statical2 = statistical_outlier_removal(pcd_second_modify, 20, 3.5) #PointCloud2000Buono\n",
    "#cl_statical2 = statistical_outlier_removal(pcd_second_modify, 20, 0.5) #PointCloud2000Fallato\n",
    "#cl_statical2 = statistical_outlier_removal(pcd_second_modify, 60, 0.1) #pointCloudPezzoBuono\n",
    "#cl_statical2 = statistical_outlier_removal(pcd_second_modify, 80, 0.1) #pointCloudPezzoFallato"
   ]
  },
  {
   "cell_type": "code",
   "execution_count": 12,
   "id": "8f8b7eae",
   "metadata": {
    "scrolled": true
   },
   "outputs": [
    {
     "name": "stdout",
     "output_type": "stream",
     "text": [
      "[[ 1.19864  -1.4703    6.6767  ]\n",
      " [-0.652911 -1.15012   6.82994 ]\n",
      " [ 1.31762  -1.07569   7.25732 ]\n",
      " ...\n",
      " [ 1.40265  -1.54295   6.84146 ]\n",
      " [ 1.24114  -1.92363   7.00253 ]\n",
      " [ 1.33186  -1.50067   6.70713 ]]\n",
      " \n",
      "[[150 166 187]\n",
      " [120  76  66]\n",
      " [140  94  75]\n",
      " ...\n",
      " [169 149 150]\n",
      " [136 102 104]\n",
      " [207 198 197]]\n"
     ]
    }
   ],
   "source": [
    "print(np.asarray(cl_statical2.points))\n",
    "print(\" \")\n",
    "cl_statical2_colori = np.asarray(cl_statical2.colors) * 255\n",
    "cl_statical2_colori = cl_statical2_colori.astype(int)\n",
    "print(cl_statical2_colori)"
   ]
  },
  {
   "cell_type": "code",
   "execution_count": 150,
   "id": "9243c8bd",
   "metadata": {
    "scrolled": true
   },
   "outputs": [],
   "source": [
    "save_point_cloud(\"pointCloud_Pulita.ply\", np.asarray(cl_statical2.points), cl_statical2_colori)"
   ]
  },
  {
   "cell_type": "code",
   "execution_count": 24,
   "id": "1978ae5b",
   "metadata": {
    "scrolled": true
   },
   "outputs": [
    {
     "name": "stdout",
     "output_type": "stream",
     "text": [
      "[[ 3.87531e-01  1.41671e+00  5.85540e+00]\n",
      " [ 7.42786e-01  3.41862e-01  6.79823e+00]\n",
      " [-8.10134e-02 -4.84564e-01  6.86060e+00]\n",
      " ...\n",
      " [ 8.07342e-01  4.48488e-01  7.00684e+00]\n",
      " [ 1.66342e-01 -5.42787e-01  7.11652e+00]\n",
      " [-1.43104e+00  6.50741e-03  6.87100e+00]]\n"
     ]
    }
   ],
   "source": [
    "pcd_pulita = visualize_point_cloud(\"pointCloud_Pulita.ply\")"
   ]
  },
  {
   "cell_type": "code",
   "execution_count": null,
   "id": "2e02d6c4",
   "metadata": {
    "scrolled": true
   },
   "outputs": [],
   "source": []
  }
 ],
 "metadata": {
  "kernelspec": {
   "display_name": "Python 3 (ipykernel)",
   "language": "python",
   "name": "python3"
  },
  "language_info": {
   "codemirror_mode": {
    "name": "ipython",
    "version": 3
   },
   "file_extension": ".py",
   "mimetype": "text/x-python",
   "name": "python",
   "nbconvert_exporter": "python",
   "pygments_lexer": "ipython3",
   "version": "3.9.12"
  }
 },
 "nbformat": 4,
 "nbformat_minor": 5
}
